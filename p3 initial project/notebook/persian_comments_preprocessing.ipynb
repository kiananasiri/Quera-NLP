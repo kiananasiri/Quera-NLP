{
 "cells": [
  {
   "cell_type": "markdown",
   "metadata": {
    "id": "CijLeySYChpW"
   },
   "source": [
    "<div dir=\"center\">\n",
    "  <h1 align=\"center\" style=\"line-height:200%;font-family:vazir;color:#0099cc\">\n",
    "    <font face=\"vazir\" color=\"#0099cc\">\n",
    "      پروژه پایانی: کاوشگر احساسات\n",
    "    </font>\n",
    "  </h1>\n",
    "</div>\n",
    "\n",
    "<p dir=\"rtl\" style=\"direction: rtl;text-align: justify;line-height:200%;font-family:vazir;font-size:medium\">\n",
    "  <font face=\"vazir\" size=\"3\">\n",
    "    🎯 در این پروژه هیجان‌انگیز، شما وظیفه دارید داده‌های متنی فارسی را پیش‌پردازش کرده و برای آموزش یک مدل دسته‌بندی احساسات آماده کنید. این پروژه فرصتی بی‌نظیر است تا مهارت‌های خود را به چالش بکشید و تمام دانشی را که تاکنون کسب کرده‌اید، در عمل به کار بگیرید. موفقیت پروژه به کیفیت داده‌هایی که شما آماده می‌کنید بستگی دارد. آماده‌اید؟\n",
    "  </font>\n",
    "</p>\n",
    "\n",
    "------\n",
    "\n",
    "\n",
    "<h1 dir=\"rtl\" style=\"direction: rtl;text-align: justify;line-height:200%;font-family:vazir;font-size:medium\">\n",
    "  <font face=\"vazir\" color=\"#0099cc\" size=\"4\">\n",
    "    مراحل پروژه:\n",
    "  </font>\n",
    "</h1>\n",
    "\n",
    "<p dir=\"rtl\" style=\"direction: rtl;text-align: justify;line-height:200%;font-family:vazir;font-size:medium\">\n",
    "  <font face=\"vazir\" size=\"3\">\n",
    "    این پروژه در سه مرحله کلی انجام می‌شود:\n",
    "    <div dir=\"rtl\">\n",
    "      <ul>\n",
    "          <li><strong>تحلیل داده‌های مجموعه‌ی آموزشی:</strong>\n",
    "          <ul>\n",
    "            <li>پاک‌سازی داده‌ها: حذف داده‌های زائد..</li>\n",
    "            <li>پیش‌پردازش مجموعه داده: تبدیل ستون برچسب‌ها به مقدار عددی.</li>\n",
    "          </ul>\n",
    "        <li><strong>پیش‌پردازش متن:</strong>\n",
    "          <ul>\n",
    "            <li>نرمال‌سازی: نرمال‌سازی متن فارسی.</li>\n",
    "            <li>توکن‌سازی: تقسیم متن به کلمات یا جملات.</li>\n",
    "            <li>حذف اعداد: حذف اعداد فارسی و لاتین.</li>\n",
    "            <li>حذف علامت‌های نگارشی: حذف علامت‌های نگارشی مانند <code>?</code> ، <code>!</code> , ... .</li>\n",
    "            <li>حذف کلمات توقف: حذف کلمات پرتکرار و کم‌اهمیت.</li>\n",
    "            <li>ریشه‌یابی: بازگرداندن کلمات به ریشه اصلی.</li>\n",
    "            <li>حذف فاصله‌های اضافی: تقسیم متن به کلمات یا جملات.</li>\n",
    "          </ul>\n",
    "        </li>\n",
    "        <li><strong>تعبیه‌سازی کلمات:</strong>\n",
    "          <ul>\n",
    "            <li>استفاده از مدل <code>Word2Vec</code> برای تبدیل کلمات به بردارهای عددی.</li>\n",
    "            <li>تحلیل و بررسی شباهت بین کلمات مختلف بر اساس بردارها.</li>\n",
    "          </ul>\n",
    "        </li>\n",
    "        <li><strong>آماده‌سازی برای تحلیل:</strong>\n",
    "          <ul>\n",
    "            <li>ذخیره داده‌های پیش‌پردازش‌شده و بردارهای تعبیه‌شده برای استفاده در مدل‌های یادگیری ماشین.</li>\n",
    "          </ul>\n",
    "        </li>\n",
    "        <li><strong>آموزش مدل دسته‌بندی احساسات:</strong>\n",
    "          <ul>\n",
    "            <li>تقسیم داده‌ها: تقسیم داده‌های آموزشی به داده‌های <code>Train</code> و <code>Validation</code>.</li>\n",
    "            <li>آموزش مدل: آموزش مدل یادگیری ماشین الگوریتم <i>Logistic Regression</i>.</li>\n",
    "            <li>ارزیابی مدل: ارزیابی مدل با داده‌های <code>Validation</code>.</li>\n",
    "          </ul>\n",
    "        </li>\n",
    "        <li><strong>آماده‌سازی فایل ارزیابی پروژه</strong>\n",
    "          <ul>\n",
    "            <li>پیشبینی فایل <code>Test</code>: پیشبینی مقادیر احساسات داده‌های فایل <code>Test</code>.</li>\n",
    "            <li>آماده‌سازی فایل ارزیابی: آماده سازی فایل ارزیابی پروژه شما.</li>\n",
    "          </ul>\n",
    "        </li>\n",
    "      </ul>\n",
    "    </div>\n",
    "  </font>\n",
    "</p>\n",
    "\n",
    "-----------\n",
    "\n",
    "<p dir=rtl style=\"direction: rtl;text-align: justify;line-height:200%;font-family:vazir;font-size:medium\">\n",
    "  <font face=\"vazir\" size=3>\n",
    "    با توجه به نیاز به اطمینان از کیفیت نهایی پروژه و به دلیل عدم آگاهی کامل از سطح مهارت شما در حوزه‌های <strong>تحلیل داده</strong>، <strong>پیش‌پردازش داده</strong> و <strong>یادگیری ماشین</strong>، برخی از مراحل اصلی پروژه به عهده تیم ما خواهد بود. این مراحل عبارتند از:\n",
    "    <div dir=\"rtl\">\n",
    "      <ul>\n",
    "        <li><strong>تحلیل مجموعه‌ی داده‌های آموزشی:</strong> بررسی و تحلیل اولیه داده‌ها برای استخراج اطلاعات مورد نیاز.</li>\n",
    "        <li><strong>آماده‌سازی برای تحلیل:</strong> ایجاد چارچوب مناسب برای استفاده بهینه از داده‌ها.</li>\n",
    "        <li><strong>آموزش مدل دسته‌بندی احساسات:</strong> پیاده‌سازی و بهینه‌سازی مدل یادگیری ماشین.</li>\n",
    "        <li><strong>آماده‌سازی فایل ارزیابی:</strong> ایجاد گزارش نهایی برای ارزیابی عملکرد مدل.</li>\n",
    "      </ul>\n",
    "    </div>\n",
    "  </font>\n",
    "</p>\n",
    "\n",
    "----------------\n",
    "\n",
    "<p dir=\"rtl\" style=\"direction: rtl;text-align: justify;line-height:200%;font-family:vazir;font-size:medium\">\n",
    "  <font face=\"vazir\" size=\"3\">\n",
    "    🔥 اکنون زمان آن رسیده که مهارت‌های خود را به نمایش بگذارید و این چالش را با موفقیت پشت سر بگذارید. موفق باشید!\n",
    "  </font>\n",
    "</p>\n"
   ]
  },
  {
   "cell_type": "markdown",
   "metadata": {
    "id": "W6ofxVj2S1Wo"
   },
   "source": [
    "<p dir=rtl style=\"direction: rtl;text-align: justify;line-height:200%;font-family:vazir;font-size:medium\">\n",
    "  <font face=\"vazir\" size=3>\n",
    "    برای شروع کار، دو فایل مجموعه داده <code>train.csv</code> و <code>test.csv</code> در پوشه <code>data</code> قرار داده شده‌اند. ابتدا این فایل‌ها را با استفاده از دستورات زیر وارد محیط برنامه‌نویسی خود کنید:\n",
    "  </font>\n",
    "</p>\n",
    "\n"
   ]
  },
  {
   "cell_type": "code",
   "execution_count": 3,
   "metadata": {
    "id": "goPwV3upmfgz"
   },
   "outputs": [],
   "source": [
    "import pandas as pd\n",
    "\n",
    "train_data = pd.read_csv('../data/train.csv')\n",
    "test_data = pd.read_csv('../data/test.csv')\n"
   ]
  },
  {
   "cell_type": "markdown",
   "metadata": {
    "id": "KerargItZMKD"
   },
   "source": [
    "<p dir=rtl style=\"direction: rtl;text-align: justify;line-height:200%;font-family:vazir;font-size:medium\">\n",
    "  <font face=\"vazir\" size=3>\n",
    "    داده‌هایی که در اختیار شما قرار گرفته‌اند، قبلاً مراحل پاکسازی را پشت سر گذاشته‌اند و هیچ داده زائدی در آن‌ها وجود ندارد. با این حال، برای شناخت بهتر از مجموعه داده، می‌توانیم با استفاده از دستورات زیر اطلاعات مفیدی به دست آوریم. این اطلاعات شامل توزیع کامنت‌هایی که به توصیه خرید یا عدم توصیه خرید مربوط می‌شوند و همچنین ساختار کلی داده‌ها است.<br>\n",
    "    این اطلاعات به شما کمک می‌کنند که داده‌ها را بهتر درک کرده و برای مراحل بعدی آماده شوید.\n",
    "  </font>\n",
    "</p>\n"
   ]
  },
  {
   "cell_type": "code",
   "execution_count": 4,
   "metadata": {
    "colab": {
     "base_uri": "https://localhost:8080/"
    },
    "id": "bQ6S5951oH7q",
    "outputId": "41508db8-7d06-4390-9634-70cf72613310"
   },
   "outputs": [
    {
     "name": "stdout",
     "output_type": "stream",
     "text": [
      "<class 'pandas.core.frame.DataFrame'>\n",
      "RangeIndex: 149400 entries, 0 to 149399\n",
      "Data columns (total 2 columns):\n",
      " #   Column                 Non-Null Count   Dtype \n",
      "---  ------                 --------------   ----- \n",
      " 0   body                   149400 non-null  object\n",
      " 1   recommendation_status  149400 non-null  object\n",
      "dtypes: object(2)\n",
      "memory usage: 2.3+ MB\n"
     ]
    }
   ],
   "source": [
    "# getting information about train dataset\n",
    "train_data.info()"
   ]
  },
  {
   "cell_type": "code",
   "execution_count": 5,
   "metadata": {
    "colab": {
     "base_uri": "https://localhost:8080/"
    },
    "id": "lz3hKePGakta",
    "outputId": "0d067ad1-5228-46b2-b7e9-ec5740207937"
   },
   "outputs": [
    {
     "name": "stdout",
     "output_type": "stream",
     "text": [
      "<class 'pandas.core.frame.DataFrame'>\n",
      "RangeIndex: 600 entries, 0 to 599\n",
      "Data columns (total 1 columns):\n",
      " #   Column  Non-Null Count  Dtype \n",
      "---  ------  --------------  ----- \n",
      " 0   body    600 non-null    object\n",
      "dtypes: object(1)\n",
      "memory usage: 4.8+ KB\n"
     ]
    }
   ],
   "source": [
    "# getting information about test dataset\n",
    "test_data.info()"
   ]
  },
  {
   "cell_type": "code",
   "execution_count": 6,
   "metadata": {
    "colab": {
     "base_uri": "https://localhost:8080/",
     "height": 210
    },
    "id": "_86nqD-4a0b-",
    "outputId": "b5036a43-c4c8-416e-8b06-6bd372343078"
   },
   "outputs": [
    {
     "data": {
      "text/plain": [
       "recommendation_status\n",
       "not_recommended    49800\n",
       "recommended        49800\n",
       "no_idea            49800\n",
       "Name: count, dtype: int64"
      ]
     },
     "execution_count": 6,
     "metadata": {},
     "output_type": "execute_result"
    }
   ],
   "source": [
    "# Count the number of data classes in the target column\n",
    "train_data['recommendation_status'].value_counts()"
   ]
  },
  {
   "cell_type": "markdown",
   "metadata": {
    "id": "WGmiqVX0awO3"
   },
   "source": [
    "<p dir=rtl style=\"direction: rtl;text-align: justify;line-height:200%;font-family:vazir;font-size:medium\">\n",
    "  <font face=\"vazir\" size=3>\n",
    "    با بررسی داده‌های موجود در ستون <code>recommendation_status</code> درمی‌یابیم که نوع این داده‌ها برای آموزش مدل‌های یادگیری ماشین مناسب نیستند، زیرا این الگوریتم‌ها نیازمند داده‌های عددی هستند. بنابراین، در مرحله بعد باید مقادیر این ستون را به اعداد <code>0</code> و <code>1</code> تبدیل کنیم تا قابل استفاده برای مدل‌های یادگیری ماشین باشند. برای این کار می‌توانیم از دستورات زیر استفاده کنیم:\n",
    "  </font>\n",
    "</p>\n"
   ]
  },
  {
   "cell_type": "code",
   "execution_count": 7,
   "metadata": {
    "id": "_yuzGz_sYQSv"
   },
   "outputs": [],
   "source": [
    "# Convert \"recommended\" data to 1 and \"not_recommended\" data to 0.\n",
    "train_data[\"recommendation_status\"] = train_data[\"recommendation_status\"].map({\"no_idea\": 2,\"recommended\": 1, \"not_recommended\": 0})"
   ]
  },
  {
   "cell_type": "code",
   "execution_count": 8,
   "metadata": {
    "colab": {
     "base_uri": "https://localhost:8080/"
    },
    "id": "R47YonnlZDn1",
    "outputId": "59e73a06-bcc8-4966-fcc3-d2968754ca55"
   },
   "outputs": [
    {
     "data": {
      "text/plain": [
       "array([0, 1, 2])"
      ]
     },
     "execution_count": 8,
     "metadata": {},
     "output_type": "execute_result"
    }
   ],
   "source": [
    "# checking the values stored in \"recommendation_starus\"\n",
    "train_data[\"recommendation_status\"].unique()"
   ]
  },
  {
   "cell_type": "code",
   "execution_count": 9,
   "metadata": {
    "colab": {
     "base_uri": "https://localhost:8080/",
     "height": 210
    },
    "id": "IVGZ1IeKCXIK",
    "outputId": "adb4f75a-ab5e-4543-bee2-16f598ff2e23"
   },
   "outputs": [
    {
     "data": {
      "text/plain": [
       "recommendation_status\n",
       "0    49800\n",
       "1    49800\n",
       "2    49800\n",
       "Name: count, dtype: int64"
      ]
     },
     "execution_count": 9,
     "metadata": {},
     "output_type": "execute_result"
    }
   ],
   "source": [
    "train_data[\"recommendation_status\"].value_counts()"
   ]
  },
  {
   "cell_type": "markdown",
   "metadata": {
    "id": "EoueKN1UZSeO"
   },
   "source": [
    "<p dir=rtl style=\"direction: rtl;text-align: justify;line-height:200%;font-family:vazir;font-size:medium\">\n",
    "  <font face=\"vazir\" size=3>\n",
    "    در این مرحله، نوبت به دست به کار شدن شما می‌رسد. در این مرحله باید با استفاده از دانش و ابزارهایی که تا به اینجا آموخته‌اید، پیش‌پردازش‌های مورد نیاز برای زبان فارسی را در قالب یک تابع به نام <code>preprocess_text</code> پیاده‌سازی کنید. این تابع باید تمامی مراحل پیش‌پردازش، از جمله نرمال‌سازی متن، توکن‌سازی، حذف کلمات توقف، و ریشه‌یابی و سایر ملزومات که در اول پروژه به آن‌ها اشاره شده است  را انجام دهد.<br>\n",
    "    این تابع <code>preprocess_text</code> را می‌توانید برای پیش‌پردازش هر متن استفاده کنید و از آن برای آماده‌سازی داده‌های خود در مراحل بعدی استفاده نمایید.<br>\n",
    "    به عنوان مثال فرض کنید جمله زیر را داشته باشیم خروجی تابع باید مشابه خروجی نمونه باشد.\n",
    "  </font>\n",
    "</p>\n",
    "\n",
    "input:\n",
    "<pre>\n",
    "  <code>\n",
    "exmpale = \"من متولد سال ۱۳۷۷ هستم\"\n",
    "preprocess_text(exmpale)\n",
    "  </code>\n",
    "</pre>\n",
    "\n",
    "output:\n",
    "<pre>\n",
    "  <code>\n",
    "['متولد', 'سال', 'هس']\n",
    "  </code>\n",
    "</pre>"
   ]
  },
  {
   "cell_type": "code",
   "execution_count": 10,
   "metadata": {
    "colab": {
     "base_uri": "https://localhost:8080/"
    },
    "id": "S4ZVBLIQZbvl",
    "outputId": "423e63bd-3cbc-44dc-d2c2-9ff9180e61c2"
   },
   "outputs": [],
   "source": [
    "#!pip install hazm"
   ]
  },
  {
   "cell_type": "code",
   "execution_count": 11,
   "metadata": {},
   "outputs": [],
   "source": [
    "from hazm import Normalizer, word_tokenize, Stemmer , stopwords_list , Lemmatizer\n"
   ]
  },
  {
   "cell_type": "code",
   "execution_count": 12,
   "metadata": {
    "id": "H11x9yMlZpEm"
   },
   "outputs": [],
   "source": [
    "def preprocess_text(text ):\n",
    "    #normalizer = Normalizer()\n",
    "    stemmer = Stemmer()\n",
    "    tokenized_text = word_tokenize(text)\n",
    "    stemmed_text = [stemmer.stem(token) for token in tokenized_text if token not in stopwords_list()]\n",
    "    return (stemmed_text)\n"
   ]
  },
  {
   "cell_type": "markdown",
   "metadata": {
    "id": "ZMJRqvYb3p1m"
   },
   "source": [
    "<p dir=rtl style=\"direction: rtl;text-align: justify;line-height:200%;font-family:vazir;font-size:medium\">\n",
    "  <font face=\"vazir\" size=3>\n",
    "    حال که مرحله نوشتن تابع پیش‌پردازش تمام شد، نوبت به این می‌رسد که این عملیات را روی تمام نظرات ذخیره‌شده در دیتاست <code>train_data</code> اعمال کنیم تا برای ارجاع دادن به مدل <code>Word2Vec</code> آماده شوند.<br>\n",
    "    داده‌ها آماده شده را در یک ستون جدید به نام <code>preprocess</code> ذخیره می‌کنیم.\n",
    "  </font>\n",
    "</p>\n"
   ]
  },
  {
   "cell_type": "code",
   "execution_count": 13,
   "metadata": {
    "id": "c1THStUUhv-8"
   },
   "outputs": [],
   "source": [
    "dataes = train_data['body']"
   ]
  },
  {
   "cell_type": "code",
   "execution_count": 14,
   "metadata": {
    "id": "AHWx8D8Nh60l"
   },
   "outputs": [
    {
     "name": "stderr",
     "output_type": "stream",
     "text": [
      "/opt/miniconda3/envs/hazm_env/lib/python3.11/site-packages/tqdm/auto.py:21: TqdmWarning: IProgress not found. Please update jupyter and ipywidgets. See https://ipywidgets.readthedocs.io/en/stable/user_install.html\n",
      "  from .autonotebook import tqdm as notebook_tqdm\n",
      "Pandas Apply: 100%|██████████| 149400/149400 [05:31<00:00, 450.43it/s]\n"
     ]
    }
   ],
   "source": [
    "import swifter\n",
    "data_processed = dataes.swifter.apply(preprocess_text)"
   ]
  },
  {
   "cell_type": "code",
   "execution_count": 15,
   "metadata": {},
   "outputs": [
    {
     "data": {
      "text/html": [
       "<div>\n",
       "<style scoped>\n",
       "    .dataframe tbody tr th:only-of-type {\n",
       "        vertical-align: middle;\n",
       "    }\n",
       "\n",
       "    .dataframe tbody tr th {\n",
       "        vertical-align: top;\n",
       "    }\n",
       "\n",
       "    .dataframe thead th {\n",
       "        text-align: right;\n",
       "    }\n",
       "</style>\n",
       "<table border=\"1\" class=\"dataframe\">\n",
       "  <thead>\n",
       "    <tr style=\"text-align: right;\">\n",
       "      <th></th>\n",
       "      <th>body</th>\n",
       "      <th>recommendation_status</th>\n",
       "      <th>preprocess</th>\n",
       "    </tr>\n",
       "  </thead>\n",
       "  <tbody>\n",
       "    <tr>\n",
       "      <th>0</th>\n",
       "      <td>جنسش‌خوب‌بود‌خیلی‌بدبدبود</td>\n",
       "      <td>0</td>\n",
       "      <td>[جنسش‌خوب‌بود‌خیلی‌بدبدبود]</td>\n",
       "    </tr>\n",
       "    <tr>\n",
       "      <th>1</th>\n",
       "      <td>به کار میاد شک ندارم</td>\n",
       "      <td>1</td>\n",
       "      <td>[کار, میاد, شک, ندار]</td>\n",
       "    </tr>\n",
       "    <tr>\n",
       "      <th>2</th>\n",
       "      <td>چیزی ک توعکسه واست میفرستن ولی هم جنسش خوب نیس...</td>\n",
       "      <td>2</td>\n",
       "      <td>[ک, توعکسه, واس, میفرستن, جنس, کوچیکتره, صفه, ...</td>\n",
       "    </tr>\n",
       "    <tr>\n",
       "      <th>3</th>\n",
       "      <td>رنگش خیلی خوبه . براق هم هست و زود خشک میشه . ...</td>\n",
       "      <td>2</td>\n",
       "      <td>[رنگ, خوبه, ., براق, هس, زود, خشک, میشه, ., زد...</td>\n",
       "    </tr>\n",
       "    <tr>\n",
       "      <th>4</th>\n",
       "      <td>من مرجوع کردم قسمت پاچه شلوار برام تنگ بود ولی...</td>\n",
       "      <td>2</td>\n",
       "      <td>[مرجوع, قسم, پاچه, شلوار, برا, تنگ, جنس, بد, ن...</td>\n",
       "    </tr>\n",
       "  </tbody>\n",
       "</table>\n",
       "</div>"
      ],
      "text/plain": [
       "                                                body  recommendation_status  \\\n",
       "0                          جنسش‌خوب‌بود‌خیلی‌بدبدبود                      0   \n",
       "1                               به کار میاد شک ندارم                      1   \n",
       "2  چیزی ک توعکسه واست میفرستن ولی هم جنسش خوب نیس...                      2   \n",
       "3  رنگش خیلی خوبه . براق هم هست و زود خشک میشه . ...                      2   \n",
       "4  من مرجوع کردم قسمت پاچه شلوار برام تنگ بود ولی...                      2   \n",
       "\n",
       "                                          preprocess  \n",
       "0                        [جنسش‌خوب‌بود‌خیلی‌بدبدبود]  \n",
       "1                              [کار, میاد, شک, ندار]  \n",
       "2  [ک, توعکسه, واس, میفرستن, جنس, کوچیکتره, صفه, ...  \n",
       "3  [رنگ, خوبه, ., براق, هس, زود, خشک, میشه, ., زد...  \n",
       "4  [مرجوع, قسم, پاچه, شلوار, برا, تنگ, جنس, بد, ن...  "
      ]
     },
     "execution_count": 15,
     "metadata": {},
     "output_type": "execute_result"
    }
   ],
   "source": [
    "train_data[\"preprocess\"] = data_processed\n",
    "train_data.head()"
   ]
  },
  {
   "cell_type": "code",
   "execution_count": 14,
   "metadata": {
    "colab": {
     "base_uri": "https://localhost:8080/",
     "height": 206
    },
    "id": "E6Ug9pdViA2u",
    "outputId": "d1c619b9-6fc6-421c-9315-3014ec97278e"
   },
   "outputs": [
    {
     "data": {
      "application/vnd.google.colaboratory.intrinsic+json": {
       "type": "dataframe",
       "variable_name": "train_data"
      },
      "text/html": [
       "\n",
       "  <div id=\"df-92e4edb5-aedb-4720-8bbe-9f0791da6d97\" class=\"colab-df-container\">\n",
       "    <div>\n",
       "<style scoped>\n",
       "    .dataframe tbody tr th:only-of-type {\n",
       "        vertical-align: middle;\n",
       "    }\n",
       "\n",
       "    .dataframe tbody tr th {\n",
       "        vertical-align: top;\n",
       "    }\n",
       "\n",
       "    .dataframe thead th {\n",
       "        text-align: right;\n",
       "    }\n",
       "</style>\n",
       "<table border=\"1\" class=\"dataframe\">\n",
       "  <thead>\n",
       "    <tr style=\"text-align: right;\">\n",
       "      <th></th>\n",
       "      <th>body</th>\n",
       "      <th>recommendation_status</th>\n",
       "      <th>preprocess</th>\n",
       "    </tr>\n",
       "  </thead>\n",
       "  <tbody>\n",
       "    <tr>\n",
       "      <th>0</th>\n",
       "      <td>جنسش‌خوب‌بود‌خیلی‌بدبدبود</td>\n",
       "      <td>0</td>\n",
       "      <td>[جنسش‌خوب‌بود‌خیلی‌بدبدبود]</td>\n",
       "    </tr>\n",
       "    <tr>\n",
       "      <th>1</th>\n",
       "      <td>به کار میاد شک ندارم</td>\n",
       "      <td>1</td>\n",
       "      <td>[کار, میاد, شک, ندار]</td>\n",
       "    </tr>\n",
       "    <tr>\n",
       "      <th>2</th>\n",
       "      <td>چیزی ک توعکسه واست میفرستن ولی هم جنسش خوب نیس...</td>\n",
       "      <td>2</td>\n",
       "      <td>[ک, توعکسه, واس, میفرستن, ول, ه, جنس, نیس, ه, ...</td>\n",
       "    </tr>\n",
       "    <tr>\n",
       "      <th>3</th>\n",
       "      <td>رنگش خیلی خوبه . براق هم هست و زود خشک میشه . ...</td>\n",
       "      <td>2</td>\n",
       "      <td>[رنگ, خیل, خوبه,  , براق, ه, هس, زود, خشک, میش...</td>\n",
       "    </tr>\n",
       "    <tr>\n",
       "      <th>4</th>\n",
       "      <td>من مرجوع کردم قسمت پاچه شلوار برام تنگ بود ولی...</td>\n",
       "      <td>2</td>\n",
       "      <td>[مرجوع, قسم, پاچه, شلوار, برا, تنگ, ول, جنس, ب...</td>\n",
       "    </tr>\n",
       "  </tbody>\n",
       "</table>\n",
       "</div>\n",
       "    <div class=\"colab-df-buttons\">\n",
       "\n",
       "  <div class=\"colab-df-container\">\n",
       "    <button class=\"colab-df-convert\" onclick=\"convertToInteractive('df-92e4edb5-aedb-4720-8bbe-9f0791da6d97')\"\n",
       "            title=\"Convert this dataframe to an interactive table.\"\n",
       "            style=\"display:none;\">\n",
       "\n",
       "  <svg xmlns=\"http://www.w3.org/2000/svg\" height=\"24px\" viewBox=\"0 -960 960 960\">\n",
       "    <path d=\"M120-120v-720h720v720H120Zm60-500h600v-160H180v160Zm220 220h160v-160H400v160Zm0 220h160v-160H400v160ZM180-400h160v-160H180v160Zm440 0h160v-160H620v160ZM180-180h160v-160H180v160Zm440 0h160v-160H620v160Z\"/>\n",
       "  </svg>\n",
       "    </button>\n",
       "\n",
       "  <style>\n",
       "    .colab-df-container {\n",
       "      display:flex;\n",
       "      gap: 12px;\n",
       "    }\n",
       "\n",
       "    .colab-df-convert {\n",
       "      background-color: #E8F0FE;\n",
       "      border: none;\n",
       "      border-radius: 50%;\n",
       "      cursor: pointer;\n",
       "      display: none;\n",
       "      fill: #1967D2;\n",
       "      height: 32px;\n",
       "      padding: 0 0 0 0;\n",
       "      width: 32px;\n",
       "    }\n",
       "\n",
       "    .colab-df-convert:hover {\n",
       "      background-color: #E2EBFA;\n",
       "      box-shadow: 0px 1px 2px rgba(60, 64, 67, 0.3), 0px 1px 3px 1px rgba(60, 64, 67, 0.15);\n",
       "      fill: #174EA6;\n",
       "    }\n",
       "\n",
       "    .colab-df-buttons div {\n",
       "      margin-bottom: 4px;\n",
       "    }\n",
       "\n",
       "    [theme=dark] .colab-df-convert {\n",
       "      background-color: #3B4455;\n",
       "      fill: #D2E3FC;\n",
       "    }\n",
       "\n",
       "    [theme=dark] .colab-df-convert:hover {\n",
       "      background-color: #434B5C;\n",
       "      box-shadow: 0px 1px 3px 1px rgba(0, 0, 0, 0.15);\n",
       "      filter: drop-shadow(0px 1px 2px rgba(0, 0, 0, 0.3));\n",
       "      fill: #FFFFFF;\n",
       "    }\n",
       "  </style>\n",
       "\n",
       "    <script>\n",
       "      const buttonEl =\n",
       "        document.querySelector('#df-92e4edb5-aedb-4720-8bbe-9f0791da6d97 button.colab-df-convert');\n",
       "      buttonEl.style.display =\n",
       "        google.colab.kernel.accessAllowed ? 'block' : 'none';\n",
       "\n",
       "      async function convertToInteractive(key) {\n",
       "        const element = document.querySelector('#df-92e4edb5-aedb-4720-8bbe-9f0791da6d97');\n",
       "        const dataTable =\n",
       "          await google.colab.kernel.invokeFunction('convertToInteractive',\n",
       "                                                    [key], {});\n",
       "        if (!dataTable) return;\n",
       "\n",
       "        const docLinkHtml = 'Like what you see? Visit the ' +\n",
       "          '<a target=\"_blank\" href=https://colab.research.google.com/notebooks/data_table.ipynb>data table notebook</a>'\n",
       "          + ' to learn more about interactive tables.';\n",
       "        element.innerHTML = '';\n",
       "        dataTable['output_type'] = 'display_data';\n",
       "        await google.colab.output.renderOutput(dataTable, element);\n",
       "        const docLink = document.createElement('div');\n",
       "        docLink.innerHTML = docLinkHtml;\n",
       "        element.appendChild(docLink);\n",
       "      }\n",
       "    </script>\n",
       "  </div>\n",
       "\n",
       "\n",
       "<div id=\"df-60021000-6e9c-4fbf-b3b5-6a77b49fbabb\">\n",
       "  <button class=\"colab-df-quickchart\" onclick=\"quickchart('df-60021000-6e9c-4fbf-b3b5-6a77b49fbabb')\"\n",
       "            title=\"Suggest charts\"\n",
       "            style=\"display:none;\">\n",
       "\n",
       "<svg xmlns=\"http://www.w3.org/2000/svg\" height=\"24px\"viewBox=\"0 0 24 24\"\n",
       "     width=\"24px\">\n",
       "    <g>\n",
       "        <path d=\"M19 3H5c-1.1 0-2 .9-2 2v14c0 1.1.9 2 2 2h14c1.1 0 2-.9 2-2V5c0-1.1-.9-2-2-2zM9 17H7v-7h2v7zm4 0h-2V7h2v10zm4 0h-2v-4h2v4z\"/>\n",
       "    </g>\n",
       "</svg>\n",
       "  </button>\n",
       "\n",
       "<style>\n",
       "  .colab-df-quickchart {\n",
       "      --bg-color: #E8F0FE;\n",
       "      --fill-color: #1967D2;\n",
       "      --hover-bg-color: #E2EBFA;\n",
       "      --hover-fill-color: #174EA6;\n",
       "      --disabled-fill-color: #AAA;\n",
       "      --disabled-bg-color: #DDD;\n",
       "  }\n",
       "\n",
       "  [theme=dark] .colab-df-quickchart {\n",
       "      --bg-color: #3B4455;\n",
       "      --fill-color: #D2E3FC;\n",
       "      --hover-bg-color: #434B5C;\n",
       "      --hover-fill-color: #FFFFFF;\n",
       "      --disabled-bg-color: #3B4455;\n",
       "      --disabled-fill-color: #666;\n",
       "  }\n",
       "\n",
       "  .colab-df-quickchart {\n",
       "    background-color: var(--bg-color);\n",
       "    border: none;\n",
       "    border-radius: 50%;\n",
       "    cursor: pointer;\n",
       "    display: none;\n",
       "    fill: var(--fill-color);\n",
       "    height: 32px;\n",
       "    padding: 0;\n",
       "    width: 32px;\n",
       "  }\n",
       "\n",
       "  .colab-df-quickchart:hover {\n",
       "    background-color: var(--hover-bg-color);\n",
       "    box-shadow: 0 1px 2px rgba(60, 64, 67, 0.3), 0 1px 3px 1px rgba(60, 64, 67, 0.15);\n",
       "    fill: var(--button-hover-fill-color);\n",
       "  }\n",
       "\n",
       "  .colab-df-quickchart-complete:disabled,\n",
       "  .colab-df-quickchart-complete:disabled:hover {\n",
       "    background-color: var(--disabled-bg-color);\n",
       "    fill: var(--disabled-fill-color);\n",
       "    box-shadow: none;\n",
       "  }\n",
       "\n",
       "  .colab-df-spinner {\n",
       "    border: 2px solid var(--fill-color);\n",
       "    border-color: transparent;\n",
       "    border-bottom-color: var(--fill-color);\n",
       "    animation:\n",
       "      spin 1s steps(1) infinite;\n",
       "  }\n",
       "\n",
       "  @keyframes spin {\n",
       "    0% {\n",
       "      border-color: transparent;\n",
       "      border-bottom-color: var(--fill-color);\n",
       "      border-left-color: var(--fill-color);\n",
       "    }\n",
       "    20% {\n",
       "      border-color: transparent;\n",
       "      border-left-color: var(--fill-color);\n",
       "      border-top-color: var(--fill-color);\n",
       "    }\n",
       "    30% {\n",
       "      border-color: transparent;\n",
       "      border-left-color: var(--fill-color);\n",
       "      border-top-color: var(--fill-color);\n",
       "      border-right-color: var(--fill-color);\n",
       "    }\n",
       "    40% {\n",
       "      border-color: transparent;\n",
       "      border-right-color: var(--fill-color);\n",
       "      border-top-color: var(--fill-color);\n",
       "    }\n",
       "    60% {\n",
       "      border-color: transparent;\n",
       "      border-right-color: var(--fill-color);\n",
       "    }\n",
       "    80% {\n",
       "      border-color: transparent;\n",
       "      border-right-color: var(--fill-color);\n",
       "      border-bottom-color: var(--fill-color);\n",
       "    }\n",
       "    90% {\n",
       "      border-color: transparent;\n",
       "      border-bottom-color: var(--fill-color);\n",
       "    }\n",
       "  }\n",
       "</style>\n",
       "\n",
       "  <script>\n",
       "    async function quickchart(key) {\n",
       "      const quickchartButtonEl =\n",
       "        document.querySelector('#' + key + ' button');\n",
       "      quickchartButtonEl.disabled = true;  // To prevent multiple clicks.\n",
       "      quickchartButtonEl.classList.add('colab-df-spinner');\n",
       "      try {\n",
       "        const charts = await google.colab.kernel.invokeFunction(\n",
       "            'suggestCharts', [key], {});\n",
       "      } catch (error) {\n",
       "        console.error('Error during call to suggestCharts:', error);\n",
       "      }\n",
       "      quickchartButtonEl.classList.remove('colab-df-spinner');\n",
       "      quickchartButtonEl.classList.add('colab-df-quickchart-complete');\n",
       "    }\n",
       "    (() => {\n",
       "      let quickchartButtonEl =\n",
       "        document.querySelector('#df-60021000-6e9c-4fbf-b3b5-6a77b49fbabb button');\n",
       "      quickchartButtonEl.style.display =\n",
       "        google.colab.kernel.accessAllowed ? 'block' : 'none';\n",
       "    })();\n",
       "  </script>\n",
       "</div>\n",
       "\n",
       "    </div>\n",
       "  </div>\n"
      ],
      "text/plain": [
       "                                                body  recommendation_status  \\\n",
       "0                          جنسش‌خوب‌بود‌خیلی‌بدبدبود                      0   \n",
       "1                               به کار میاد شک ندارم                      1   \n",
       "2  چیزی ک توعکسه واست میفرستن ولی هم جنسش خوب نیس...                      2   \n",
       "3  رنگش خیلی خوبه . براق هم هست و زود خشک میشه . ...                      2   \n",
       "4  من مرجوع کردم قسمت پاچه شلوار برام تنگ بود ولی...                      2   \n",
       "\n",
       "                                          preprocess  \n",
       "0                        [جنسش‌خوب‌بود‌خیلی‌بدبدبود]  \n",
       "1                              [کار, میاد, شک, ندار]  \n",
       "2  [ک, توعکسه, واس, میفرستن, ول, ه, جنس, نیس, ه, ...  \n",
       "3  [رنگ, خیل, خوبه,  , براق, ه, هس, زود, خشک, میش...  \n",
       "4  [مرجوع, قسم, پاچه, شلوار, برا, تنگ, ول, جنس, ب...  "
      ]
     },
     "execution_count": 14,
     "metadata": {},
     "output_type": "execute_result"
    }
   ],
   "source": [
    "train_data[\"preprocess\"] = data_processed\n",
    "train_data.head()"
   ]
  },
  {
   "cell_type": "markdown",
   "metadata": {
    "id": "Gfv4DVk9pgNM"
   },
   "source": [
    "<p dir=rtl style=\"direction: rtl;text-align: justify;line-height:200%;font-family:vazir;font-size:medium\">\n",
    "  <font face=\"vazir\" size=3>\n",
    "    حال با توجه به عملیات انجام شده روی داده‌ها و ذخیره کردن پیش‌پردازش اعمال‌شده، نوبت به تعبیه‌سازی داده‌ها با استفاده از الگوریتم <code>Word2Vec</code> می‌رسد. در این مرحله، مدل <code>Word2Vec</code> را برای آموزش و تبدیل کلمات به بردارهای عددی پیاده‌سازی کنید.\n",
    "  </font>\n",
    "</p>\n"
   ]
  },
  {
   "cell_type": "code",
   "execution_count": 16,
   "metadata": {
    "id": "4pTpsNCOaeA8"
   },
   "outputs": [],
   "source": [
    "from gensim.models import Word2Vec\n",
    "model = Word2Vec(sentences=train_data[\"preprocess\"], vector_size=100, window=5, min_count=1, workers=4)"
   ]
  },
  {
   "cell_type": "markdown",
   "metadata": {
    "id": "2WkzyWBsrk3w"
   },
   "source": [
    "<p dir=rtl style=\"direction: rtl;text-align: justify;line-height:200%;font-family:vazir;font-size:medium\">\n",
    "  <font face=\"vazir\" size=3>\n",
    "    حال مدل <code>Word2Vec</code> که آموزش داده‌ایم را برای یافتن شباهت کلمه \"دوست\" امتحان می‌کنیم. و نتیجه به دست آمده را بررسی می‌کنیم.\n",
    "  </font>\n",
    "</p>\n"
   ]
  },
  {
   "cell_type": "code",
   "execution_count": 17,
   "metadata": {},
   "outputs": [
    {
     "data": {
      "text/plain": [
       "[('دوسشون', 0.9060853719711304),\n",
       " ('دوستشون', 0.8708669543266296),\n",
       " ('دوس', 0.8609907031059265),\n",
       " ('انتظاربیشتر', 0.786929190158844),\n",
       " ('انتظارشو', 0.7868601679801941),\n",
       " ('مایعیه', 0.7746919989585876),\n",
       " ('اصرار', 0.7690917253494263),\n",
       " ('تیوپیشو', 0.757308304309845),\n",
       " ('شك', 0.751682698726654),\n",
       " ('ومطابق', 0.7437248229980469)]"
      ]
     },
     "execution_count": 17,
     "metadata": {},
     "output_type": "execute_result"
    }
   ],
   "source": [
    "model.wv.most_similar(\"دوست\")"
   ]
  },
  {
   "cell_type": "code",
   "execution_count": 16,
   "metadata": {
    "colab": {
     "base_uri": "https://localhost:8080/"
    },
    "id": "gimbEMP5f1_r",
    "outputId": "f02941cd-56a3-4f16-a765-f9fa5de62151"
   },
   "outputs": [
    {
     "data": {
      "text/plain": [
       "[('دوستشون', 0.829220175743103),\n",
       " ('دوسشون', 0.8061068058013916),\n",
       " ('بخشیدم', 0.7751042246818542),\n",
       " ('دوس', 0.7571793794631958),\n",
       " ('ومشکل', 0.751501739025116),\n",
       " ('نیدار', 0.7435619831085205),\n",
       " ('stranger', 0.7405935525894165),\n",
       " ('عاشقشه', 0.7400643825531006),\n",
       " ('رضایتبخ', 0.7379044890403748),\n",
       " ('ورایحه', 0.7376339435577393)]"
      ]
     },
     "execution_count": 16,
     "metadata": {},
     "output_type": "execute_result"
    }
   ],
   "source": [
    "model.wv.most_similar(\"دوست\")"
   ]
  },
  {
   "cell_type": "markdown",
   "metadata": {
    "id": "Pm4-k8lG6waa"
   },
   "source": [
    "<p dir=rtl style=\"direction: rtl;text-align: justify;line-height:200%;font-family:vazir;font-size:medium\">\n",
    "  <font face=\"vazir\" size=3>\n",
    "    در این مرحله، تابع <code>sentence_vector</code> برای محاسبه بردار تعبیه برای هر نظر طراحی شده است. هدف این تابع این است که بردارهای مربوط به کلمات در یک نظر را میانگین‌گیری کرده و یک بردار یکتا برای آن نظر تولید کند.\n",
    "  </font>\n",
    "</p>\n",
    "\n"
   ]
  },
  {
   "cell_type": "code",
   "execution_count": 18,
   "metadata": {
    "id": "nSQep3ve60cW"
   },
   "outputs": [],
   "source": [
    "import numpy as np\n"
   ]
  },
  {
   "cell_type": "code",
   "execution_count": 19,
   "metadata": {
    "id": "G7W8myxB64l7"
   },
   "outputs": [],
   "source": [
    "# Create sentence vectors by averaging word vectors\n",
    "def sentence_vector(sentence):\n",
    "    vectors = []\n",
    "    for word in sentence:\n",
    "        try:\n",
    "            vectors.append(model.wv[word])\n",
    "        except KeyError:\n",
    "            # Handle words not in vocabulary (e.g., use a zero vector)\n",
    "            vectors.append(np.zeros(100))  # Assuming vector_size=100\n",
    "    if vectors:\n",
    "        return np.mean(vectors, axis=0)\n",
    "    else:\n",
    "        return np.zeros(100)\n"
   ]
  },
  {
   "cell_type": "markdown",
   "metadata": {
    "id": "KSVcMHO1u417"
   },
   "source": [
    "<p dir=rtl style=\"direction: rtl;text-align: justify;line-height:200%;font-family:vazir;font-size:medium\">\n",
    "  <font face=\"vazir\" size=3>\n",
    "    حالا که تابع <code>sentence_vector</code> تعریف شده است، باید این تابع را روی ستون <code>train_data['preprocess']</code> اعمال کنیم و نتیجه را در متغیری به نام <code>sentence_vectors</code> ذخیره کنیم. در این مرحله، هر نظر به بردار مربوطه تبدیل می‌شود که آماده ورود به مدل خواهد بود.\n",
    "  </font>\n",
    "</p>\n",
    "\n",
    "<div dir=\"ltr\" style=\"text-align: left;\">\n",
    "  <pre style=\"background-color: #f5f5f5; padding: 10px; border-radius: 5px; font-size: 14px; font-family: monospace; overflow: auto;\">\n",
    "# اعمال تابع sentence_vector روی داده‌های پیش‌پردازش‌شده\n",
    "sentence_vectors = train_data['preprocess'].apply(sentence_vector)\n",
    "  </pre>\n",
    "</div>\n"
   ]
  },
  {
   "cell_type": "code",
   "execution_count": 20,
   "metadata": {
    "colab": {
     "base_uri": "https://localhost:8080/",
     "height": 458
    },
    "id": "LoBDtIP_67u0",
    "outputId": "2054b68b-2a1d-4223-80e6-2801d8c8c72e"
   },
   "outputs": [
    {
     "data": {
      "text/plain": [
       "0         [-0.0041605127, -0.0036896109, 0.0015037572, 0...\n",
       "1         [0.16199437, 0.2097021, 0.07495664, -0.1801336...\n",
       "2         [-0.25100523, 0.42456916, -0.008472705, -0.315...\n",
       "3         [-0.26329315, -0.037112422, 0.4085442, 0.02514...\n",
       "4         [-0.3181867, 0.49722803, -0.08995681, -0.46804...\n",
       "                                ...                        \n",
       "149395    [-0.41992024, -0.07358273, 0.651713, -0.134606...\n",
       "149396    [-0.28045702, 0.46643287, -0.14889583, -0.1270...\n",
       "149397    [0.11486544, 0.5431785, -0.52179015, 0.0082589...\n",
       "149398    [-0.36337972, 0.28689674, 0.38190976, -0.45565...\n",
       "149399    [-0.53044814, -0.23630449, -0.74012256, -0.028...\n",
       "Name: preprocess, Length: 149400, dtype: object"
      ]
     },
     "execution_count": 20,
     "metadata": {},
     "output_type": "execute_result"
    }
   ],
   "source": [
    "sentence_vectors = train_data['preprocess'].apply(sentence_vector)\n",
    "sentence_vectors"
   ]
  },
  {
   "cell_type": "markdown",
   "metadata": {
    "id": "j_nNKqw47JI-"
   },
   "source": [
    "<p dir=rtl style=\"direction: rtl;text-align: justify;line-height:200%;font-family:vazir;font-size:medium\">\n",
    "  <font face=\"vazir\" size=3>\n",
    "    در این مرحله، داده‌های آموزش و ارزیابی را با استفاده از تابع <code>train_test_split</code> تقسیم می‌کنیم. توزیع داده‌ها به گونه‌ای خواهد بود که ۸۰ درصد داده‌ها به داده‌های آموزشی و ۲۰ درصد به داده‌های ارزیابی اختصاص می‌یابد. در اینجا <code>X</code> شامل بردارهای تعبیه‌شده برای هر نظر است و <code>y</code> شامل برچسب‌های هدف است که همان <code>recommendation_status</code> می‌باشد.\n",
    "  </font>\n",
    "</p>\n",
    "\n",
    "<div dir=\"ltr\" style=\"text-align: left;\">\n",
    "  <pre style=\"background-color: #f5f5f5; padding: 10px; border-radius: 5px; font-size: 14px; font-family: monospace; overflow: auto;\">\n",
    "from sklearn.model_selection import train_test_split\n",
    "# تبدیل بردارهای جملات به آرایه NumPy\n",
    "X = np.array(sentence_vectors.to_list())\n",
    "# فرض بر این است که df[\"recommendation_status\"] شامل برچسب‌های هدف است\n",
    "y = df[\"recommendation_status\"].values\n",
    "# تقسیم داده‌ها به مجموعه‌های آموزشی و ارزیابی\n",
    "X_train, X_test, y_train, y_test = train_test_split(X, y, test_size=0.2, random_state=42)\n",
    "  </pre>\n",
    "</div>\n"
   ]
  },
  {
   "cell_type": "code",
   "execution_count": 21,
   "metadata": {
    "id": "2zsKKt9d7E1F"
   },
   "outputs": [],
   "source": [
    "from sklearn.model_selection import train_test_split\n",
    "\n",
    "# Convert sentence vectors to a NumPy array\n",
    "X = np.array(sentence_vectors.to_list())\n",
    "\n",
    "# Assuming 'df[\"recommendation_status\"]' contains target labels\n",
    "y = train_data[\"recommendation_status\"].values\n",
    "\n",
    "# Split data into training and testing sets\n",
    "X_train, X_test, y_train, y_test = train_test_split(X, y, test_size=0.2, random_state=42)"
   ]
  },
  {
   "cell_type": "markdown",
   "metadata": {
    "id": "4aEzJHT27Sih"
   },
   "source": [
    "<p dir=rtl style=\"direction: rtl;text-align: justify;line-height:200%;font-family:vazir;font-size:medium\">\n",
    "  <font face=\"vazir\" size=3>\n",
    "    پس از آماده‌سازی داده‌ها و تقسیم آن‌ها به داده‌های آموزشی و ارزیابی، نوبت به آموزش مدل می‌رسد. در این پروژه از مدل رگرسیون منطقی <i>(Logistic Regression)</i> برای دسته‌بندی احساسات استفاده می‌کنیم. مدل به کمک متد <code>fit</code> آموزش داده می‌شود و این عملیات بر روی داده‌های آموزشی <code>X_train</code> و <code>y_train</code> انجام می‌شود.\n",
    "    <br>\n",
    "  </font>\n",
    "</p>\n",
    "\n",
    "<div dir=\"ltr\" style=\"text-align: left;\">\n",
    "  <pre style=\"background-color: #f5f5f5; padding: 10px; border-radius: 5px; font-size: 14px; font-family: monospace; overflow: auto;\">\n",
    "from sklearn.linear_model import LogisticRegression\n",
    "logistic_model = LogisticRegression(max_iter=1000) # Increased max_iter for convergence\n",
    "logistic_model.fit(X_train, y_train)\n",
    "  </pre>\n",
    "</div>\n"
   ]
  },
  {
   "cell_type": "code",
   "execution_count": null,
   "metadata": {
    "colab": {
     "base_uri": "https://localhost:8080/",
     "height": 80
    },
    "id": "ozUuSRR51xVx",
    "outputId": "3bc1282a-4b7f-42ca-f484-7071a0136afd"
   },
   "outputs": [
    {
     "data": {
      "text/html": [
       "<style>#sk-container-id-2 {\n",
       "  /* Definition of color scheme common for light and dark mode */\n",
       "  --sklearn-color-text: #000;\n",
       "  --sklearn-color-text-muted: #666;\n",
       "  --sklearn-color-line: gray;\n",
       "  /* Definition of color scheme for unfitted estimators */\n",
       "  --sklearn-color-unfitted-level-0: #fff5e6;\n",
       "  --sklearn-color-unfitted-level-1: #f6e4d2;\n",
       "  --sklearn-color-unfitted-level-2: #ffe0b3;\n",
       "  --sklearn-color-unfitted-level-3: chocolate;\n",
       "  /* Definition of color scheme for fitted estimators */\n",
       "  --sklearn-color-fitted-level-0: #f0f8ff;\n",
       "  --sklearn-color-fitted-level-1: #d4ebff;\n",
       "  --sklearn-color-fitted-level-2: #b3dbfd;\n",
       "  --sklearn-color-fitted-level-3: cornflowerblue;\n",
       "\n",
       "  /* Specific color for light theme */\n",
       "  --sklearn-color-text-on-default-background: var(--sg-text-color, var(--theme-code-foreground, var(--jp-content-font-color1, black)));\n",
       "  --sklearn-color-background: var(--sg-background-color, var(--theme-background, var(--jp-layout-color0, white)));\n",
       "  --sklearn-color-border-box: var(--sg-text-color, var(--theme-code-foreground, var(--jp-content-font-color1, black)));\n",
       "  --sklearn-color-icon: #696969;\n",
       "\n",
       "  @media (prefers-color-scheme: dark) {\n",
       "    /* Redefinition of color scheme for dark theme */\n",
       "    --sklearn-color-text-on-default-background: var(--sg-text-color, var(--theme-code-foreground, var(--jp-content-font-color1, white)));\n",
       "    --sklearn-color-background: var(--sg-background-color, var(--theme-background, var(--jp-layout-color0, #111)));\n",
       "    --sklearn-color-border-box: var(--sg-text-color, var(--theme-code-foreground, var(--jp-content-font-color1, white)));\n",
       "    --sklearn-color-icon: #878787;\n",
       "  }\n",
       "}\n",
       "\n",
       "#sk-container-id-2 {\n",
       "  color: var(--sklearn-color-text);\n",
       "}\n",
       "\n",
       "#sk-container-id-2 pre {\n",
       "  padding: 0;\n",
       "}\n",
       "\n",
       "#sk-container-id-2 input.sk-hidden--visually {\n",
       "  border: 0;\n",
       "  clip: rect(1px 1px 1px 1px);\n",
       "  clip: rect(1px, 1px, 1px, 1px);\n",
       "  height: 1px;\n",
       "  margin: -1px;\n",
       "  overflow: hidden;\n",
       "  padding: 0;\n",
       "  position: absolute;\n",
       "  width: 1px;\n",
       "}\n",
       "\n",
       "#sk-container-id-2 div.sk-dashed-wrapped {\n",
       "  border: 1px dashed var(--sklearn-color-line);\n",
       "  margin: 0 0.4em 0.5em 0.4em;\n",
       "  box-sizing: border-box;\n",
       "  padding-bottom: 0.4em;\n",
       "  background-color: var(--sklearn-color-background);\n",
       "}\n",
       "\n",
       "#sk-container-id-2 div.sk-container {\n",
       "  /* jupyter's `normalize.less` sets `[hidden] { display: none; }`\n",
       "     but bootstrap.min.css set `[hidden] { display: none !important; }`\n",
       "     so we also need the `!important` here to be able to override the\n",
       "     default hidden behavior on the sphinx rendered scikit-learn.org.\n",
       "     See: https://github.com/scikit-learn/scikit-learn/issues/21755 */\n",
       "  display: inline-block !important;\n",
       "  position: relative;\n",
       "}\n",
       "\n",
       "#sk-container-id-2 div.sk-text-repr-fallback {\n",
       "  display: none;\n",
       "}\n",
       "\n",
       "div.sk-parallel-item,\n",
       "div.sk-serial,\n",
       "div.sk-item {\n",
       "  /* draw centered vertical line to link estimators */\n",
       "  background-image: linear-gradient(var(--sklearn-color-text-on-default-background), var(--sklearn-color-text-on-default-background));\n",
       "  background-size: 2px 100%;\n",
       "  background-repeat: no-repeat;\n",
       "  background-position: center center;\n",
       "}\n",
       "\n",
       "/* Parallel-specific style estimator block */\n",
       "\n",
       "#sk-container-id-2 div.sk-parallel-item::after {\n",
       "  content: \"\";\n",
       "  width: 100%;\n",
       "  border-bottom: 2px solid var(--sklearn-color-text-on-default-background);\n",
       "  flex-grow: 1;\n",
       "}\n",
       "\n",
       "#sk-container-id-2 div.sk-parallel {\n",
       "  display: flex;\n",
       "  align-items: stretch;\n",
       "  justify-content: center;\n",
       "  background-color: var(--sklearn-color-background);\n",
       "  position: relative;\n",
       "}\n",
       "\n",
       "#sk-container-id-2 div.sk-parallel-item {\n",
       "  display: flex;\n",
       "  flex-direction: column;\n",
       "}\n",
       "\n",
       "#sk-container-id-2 div.sk-parallel-item:first-child::after {\n",
       "  align-self: flex-end;\n",
       "  width: 50%;\n",
       "}\n",
       "\n",
       "#sk-container-id-2 div.sk-parallel-item:last-child::after {\n",
       "  align-self: flex-start;\n",
       "  width: 50%;\n",
       "}\n",
       "\n",
       "#sk-container-id-2 div.sk-parallel-item:only-child::after {\n",
       "  width: 0;\n",
       "}\n",
       "\n",
       "/* Serial-specific style estimator block */\n",
       "\n",
       "#sk-container-id-2 div.sk-serial {\n",
       "  display: flex;\n",
       "  flex-direction: column;\n",
       "  align-items: center;\n",
       "  background-color: var(--sklearn-color-background);\n",
       "  padding-right: 1em;\n",
       "  padding-left: 1em;\n",
       "}\n",
       "\n",
       "\n",
       "/* Toggleable style: style used for estimator/Pipeline/ColumnTransformer box that is\n",
       "clickable and can be expanded/collapsed.\n",
       "- Pipeline and ColumnTransformer use this feature and define the default style\n",
       "- Estimators will overwrite some part of the style using the `sk-estimator` class\n",
       "*/\n",
       "\n",
       "/* Pipeline and ColumnTransformer style (default) */\n",
       "\n",
       "#sk-container-id-2 div.sk-toggleable {\n",
       "  /* Default theme specific background. It is overwritten whether we have a\n",
       "  specific estimator or a Pipeline/ColumnTransformer */\n",
       "  background-color: var(--sklearn-color-background);\n",
       "}\n",
       "\n",
       "/* Toggleable label */\n",
       "#sk-container-id-2 label.sk-toggleable__label {\n",
       "  cursor: pointer;\n",
       "  display: flex;\n",
       "  width: 100%;\n",
       "  margin-bottom: 0;\n",
       "  padding: 0.5em;\n",
       "  box-sizing: border-box;\n",
       "  text-align: center;\n",
       "  align-items: start;\n",
       "  justify-content: space-between;\n",
       "  gap: 0.5em;\n",
       "}\n",
       "\n",
       "#sk-container-id-2 label.sk-toggleable__label .caption {\n",
       "  font-size: 0.6rem;\n",
       "  font-weight: lighter;\n",
       "  color: var(--sklearn-color-text-muted);\n",
       "}\n",
       "\n",
       "#sk-container-id-2 label.sk-toggleable__label-arrow:before {\n",
       "  /* Arrow on the left of the label */\n",
       "  content: \"▸\";\n",
       "  float: left;\n",
       "  margin-right: 0.25em;\n",
       "  color: var(--sklearn-color-icon);\n",
       "}\n",
       "\n",
       "#sk-container-id-2 label.sk-toggleable__label-arrow:hover:before {\n",
       "  color: var(--sklearn-color-text);\n",
       "}\n",
       "\n",
       "/* Toggleable content - dropdown */\n",
       "\n",
       "#sk-container-id-2 div.sk-toggleable__content {\n",
       "  max-height: 0;\n",
       "  max-width: 0;\n",
       "  overflow: hidden;\n",
       "  text-align: left;\n",
       "  /* unfitted */\n",
       "  background-color: var(--sklearn-color-unfitted-level-0);\n",
       "}\n",
       "\n",
       "#sk-container-id-2 div.sk-toggleable__content.fitted {\n",
       "  /* fitted */\n",
       "  background-color: var(--sklearn-color-fitted-level-0);\n",
       "}\n",
       "\n",
       "#sk-container-id-2 div.sk-toggleable__content pre {\n",
       "  margin: 0.2em;\n",
       "  border-radius: 0.25em;\n",
       "  color: var(--sklearn-color-text);\n",
       "  /* unfitted */\n",
       "  background-color: var(--sklearn-color-unfitted-level-0);\n",
       "}\n",
       "\n",
       "#sk-container-id-2 div.sk-toggleable__content.fitted pre {\n",
       "  /* unfitted */\n",
       "  background-color: var(--sklearn-color-fitted-level-0);\n",
       "}\n",
       "\n",
       "#sk-container-id-2 input.sk-toggleable__control:checked~div.sk-toggleable__content {\n",
       "  /* Expand drop-down */\n",
       "  max-height: 200px;\n",
       "  max-width: 100%;\n",
       "  overflow: auto;\n",
       "}\n",
       "\n",
       "#sk-container-id-2 input.sk-toggleable__control:checked~label.sk-toggleable__label-arrow:before {\n",
       "  content: \"▾\";\n",
       "}\n",
       "\n",
       "/* Pipeline/ColumnTransformer-specific style */\n",
       "\n",
       "#sk-container-id-2 div.sk-label input.sk-toggleable__control:checked~label.sk-toggleable__label {\n",
       "  color: var(--sklearn-color-text);\n",
       "  background-color: var(--sklearn-color-unfitted-level-2);\n",
       "}\n",
       "\n",
       "#sk-container-id-2 div.sk-label.fitted input.sk-toggleable__control:checked~label.sk-toggleable__label {\n",
       "  background-color: var(--sklearn-color-fitted-level-2);\n",
       "}\n",
       "\n",
       "/* Estimator-specific style */\n",
       "\n",
       "/* Colorize estimator box */\n",
       "#sk-container-id-2 div.sk-estimator input.sk-toggleable__control:checked~label.sk-toggleable__label {\n",
       "  /* unfitted */\n",
       "  background-color: var(--sklearn-color-unfitted-level-2);\n",
       "}\n",
       "\n",
       "#sk-container-id-2 div.sk-estimator.fitted input.sk-toggleable__control:checked~label.sk-toggleable__label {\n",
       "  /* fitted */\n",
       "  background-color: var(--sklearn-color-fitted-level-2);\n",
       "}\n",
       "\n",
       "#sk-container-id-2 div.sk-label label.sk-toggleable__label,\n",
       "#sk-container-id-2 div.sk-label label {\n",
       "  /* The background is the default theme color */\n",
       "  color: var(--sklearn-color-text-on-default-background);\n",
       "}\n",
       "\n",
       "/* On hover, darken the color of the background */\n",
       "#sk-container-id-2 div.sk-label:hover label.sk-toggleable__label {\n",
       "  color: var(--sklearn-color-text);\n",
       "  background-color: var(--sklearn-color-unfitted-level-2);\n",
       "}\n",
       "\n",
       "/* Label box, darken color on hover, fitted */\n",
       "#sk-container-id-2 div.sk-label.fitted:hover label.sk-toggleable__label.fitted {\n",
       "  color: var(--sklearn-color-text);\n",
       "  background-color: var(--sklearn-color-fitted-level-2);\n",
       "}\n",
       "\n",
       "/* Estimator label */\n",
       "\n",
       "#sk-container-id-2 div.sk-label label {\n",
       "  font-family: monospace;\n",
       "  font-weight: bold;\n",
       "  display: inline-block;\n",
       "  line-height: 1.2em;\n",
       "}\n",
       "\n",
       "#sk-container-id-2 div.sk-label-container {\n",
       "  text-align: center;\n",
       "}\n",
       "\n",
       "/* Estimator-specific */\n",
       "#sk-container-id-2 div.sk-estimator {\n",
       "  font-family: monospace;\n",
       "  border: 1px dotted var(--sklearn-color-border-box);\n",
       "  border-radius: 0.25em;\n",
       "  box-sizing: border-box;\n",
       "  margin-bottom: 0.5em;\n",
       "  /* unfitted */\n",
       "  background-color: var(--sklearn-color-unfitted-level-0);\n",
       "}\n",
       "\n",
       "#sk-container-id-2 div.sk-estimator.fitted {\n",
       "  /* fitted */\n",
       "  background-color: var(--sklearn-color-fitted-level-0);\n",
       "}\n",
       "\n",
       "/* on hover */\n",
       "#sk-container-id-2 div.sk-estimator:hover {\n",
       "  /* unfitted */\n",
       "  background-color: var(--sklearn-color-unfitted-level-2);\n",
       "}\n",
       "\n",
       "#sk-container-id-2 div.sk-estimator.fitted:hover {\n",
       "  /* fitted */\n",
       "  background-color: var(--sklearn-color-fitted-level-2);\n",
       "}\n",
       "\n",
       "/* Specification for estimator info (e.g. \"i\" and \"?\") */\n",
       "\n",
       "/* Common style for \"i\" and \"?\" */\n",
       "\n",
       ".sk-estimator-doc-link,\n",
       "a:link.sk-estimator-doc-link,\n",
       "a:visited.sk-estimator-doc-link {\n",
       "  float: right;\n",
       "  font-size: smaller;\n",
       "  line-height: 1em;\n",
       "  font-family: monospace;\n",
       "  background-color: var(--sklearn-color-background);\n",
       "  border-radius: 1em;\n",
       "  height: 1em;\n",
       "  width: 1em;\n",
       "  text-decoration: none !important;\n",
       "  margin-left: 0.5em;\n",
       "  text-align: center;\n",
       "  /* unfitted */\n",
       "  border: var(--sklearn-color-unfitted-level-1) 1pt solid;\n",
       "  color: var(--sklearn-color-unfitted-level-1);\n",
       "}\n",
       "\n",
       ".sk-estimator-doc-link.fitted,\n",
       "a:link.sk-estimator-doc-link.fitted,\n",
       "a:visited.sk-estimator-doc-link.fitted {\n",
       "  /* fitted */\n",
       "  border: var(--sklearn-color-fitted-level-1) 1pt solid;\n",
       "  color: var(--sklearn-color-fitted-level-1);\n",
       "}\n",
       "\n",
       "/* On hover */\n",
       "div.sk-estimator:hover .sk-estimator-doc-link:hover,\n",
       ".sk-estimator-doc-link:hover,\n",
       "div.sk-label-container:hover .sk-estimator-doc-link:hover,\n",
       ".sk-estimator-doc-link:hover {\n",
       "  /* unfitted */\n",
       "  background-color: var(--sklearn-color-unfitted-level-3);\n",
       "  color: var(--sklearn-color-background);\n",
       "  text-decoration: none;\n",
       "}\n",
       "\n",
       "div.sk-estimator.fitted:hover .sk-estimator-doc-link.fitted:hover,\n",
       ".sk-estimator-doc-link.fitted:hover,\n",
       "div.sk-label-container:hover .sk-estimator-doc-link.fitted:hover,\n",
       ".sk-estimator-doc-link.fitted:hover {\n",
       "  /* fitted */\n",
       "  background-color: var(--sklearn-color-fitted-level-3);\n",
       "  color: var(--sklearn-color-background);\n",
       "  text-decoration: none;\n",
       "}\n",
       "\n",
       "/* Span, style for the box shown on hovering the info icon */\n",
       ".sk-estimator-doc-link span {\n",
       "  display: none;\n",
       "  z-index: 9999;\n",
       "  position: relative;\n",
       "  font-weight: normal;\n",
       "  right: .2ex;\n",
       "  padding: .5ex;\n",
       "  margin: .5ex;\n",
       "  width: min-content;\n",
       "  min-width: 20ex;\n",
       "  max-width: 50ex;\n",
       "  color: var(--sklearn-color-text);\n",
       "  box-shadow: 2pt 2pt 4pt #999;\n",
       "  /* unfitted */\n",
       "  background: var(--sklearn-color-unfitted-level-0);\n",
       "  border: .5pt solid var(--sklearn-color-unfitted-level-3);\n",
       "}\n",
       "\n",
       ".sk-estimator-doc-link.fitted span {\n",
       "  /* fitted */\n",
       "  background: var(--sklearn-color-fitted-level-0);\n",
       "  border: var(--sklearn-color-fitted-level-3);\n",
       "}\n",
       "\n",
       ".sk-estimator-doc-link:hover span {\n",
       "  display: block;\n",
       "}\n",
       "\n",
       "/* \"?\"-specific style due to the `<a>` HTML tag */\n",
       "\n",
       "#sk-container-id-2 a.estimator_doc_link {\n",
       "  float: right;\n",
       "  font-size: 1rem;\n",
       "  line-height: 1em;\n",
       "  font-family: monospace;\n",
       "  background-color: var(--sklearn-color-background);\n",
       "  border-radius: 1rem;\n",
       "  height: 1rem;\n",
       "  width: 1rem;\n",
       "  text-decoration: none;\n",
       "  /* unfitted */\n",
       "  color: var(--sklearn-color-unfitted-level-1);\n",
       "  border: var(--sklearn-color-unfitted-level-1) 1pt solid;\n",
       "}\n",
       "\n",
       "#sk-container-id-2 a.estimator_doc_link.fitted {\n",
       "  /* fitted */\n",
       "  border: var(--sklearn-color-fitted-level-1) 1pt solid;\n",
       "  color: var(--sklearn-color-fitted-level-1);\n",
       "}\n",
       "\n",
       "/* On hover */\n",
       "#sk-container-id-2 a.estimator_doc_link:hover {\n",
       "  /* unfitted */\n",
       "  background-color: var(--sklearn-color-unfitted-level-3);\n",
       "  color: var(--sklearn-color-background);\n",
       "  text-decoration: none;\n",
       "}\n",
       "\n",
       "#sk-container-id-2 a.estimator_doc_link.fitted:hover {\n",
       "  /* fitted */\n",
       "  background-color: var(--sklearn-color-fitted-level-3);\n",
       "}\n",
       "</style><div id=\"sk-container-id-2\" class=\"sk-top-container\"><div class=\"sk-text-repr-fallback\"><pre>LogisticRegression(max_iter=1500)</pre><b>In a Jupyter environment, please rerun this cell to show the HTML representation or trust the notebook. <br />On GitHub, the HTML representation is unable to render, please try loading this page with nbviewer.org.</b></div><div class=\"sk-container\" hidden><div class=\"sk-item\"><div class=\"sk-estimator fitted sk-toggleable\"><input class=\"sk-toggleable__control sk-hidden--visually\" id=\"sk-estimator-id-2\" type=\"checkbox\" checked><label for=\"sk-estimator-id-2\" class=\"sk-toggleable__label fitted sk-toggleable__label-arrow\"><div><div>LogisticRegression</div></div><div><a class=\"sk-estimator-doc-link fitted\" rel=\"noreferrer\" target=\"_blank\" href=\"https://scikit-learn.org/1.6/modules/generated/sklearn.linear_model.LogisticRegression.html\">?<span>Documentation for LogisticRegression</span></a><span class=\"sk-estimator-doc-link fitted\">i<span>Fitted</span></span></div></label><div class=\"sk-toggleable__content fitted\"><pre>LogisticRegression(max_iter=1500)</pre></div> </div></div></div></div>"
      ],
      "text/plain": [
       "LogisticRegression(max_iter=1500)"
      ]
     },
     "execution_count": 30,
     "metadata": {},
     "output_type": "execute_result"
    }
   ],
   "source": [
    "\n",
    "from sklearn.linear_model import LogisticRegression\n",
    "\n",
    "# Initialize and train the Logistic Regression model\n",
    "logistic_model = LogisticRegression(max_iter=1000)\n",
    "logistic_model.fit(X_train, y_train)\n"
   ]
  },
  {
   "cell_type": "markdown",
   "metadata": {
    "id": "bA_YHi-77qox"
   },
   "source": [
    "<p dir=rtl style=\"direction: rtl;text-align: justify;line-height:200%;font-family:vazir;font-size:medium\">\n",
    "  <font face=\"vazir\" size=3>\n",
    "    پس از آموزش مدل، نوبت به ارزیابی آن می‌رسد. در این مرحله با استفاده از داده‌های ارزیابی <code>X_test</code> پیش‌بینی‌هایی انجام می‌دهیم و سپس دقت مدل را با استفاده از تابع <code>accuracy_score</code> مقایسه می‌کنیم. در نهایت، دقت مدل به نمایش در می‌آید. دقت مدل شما حداقل باید ۵۰ درصد باشد.\n",
    "  </font>\n",
    "</p>\n",
    "\n",
    "<div dir=\"ltr\" style=\"text-align: left;\">\n",
    "  <pre style=\"background-color: #f5f5f5; padding: 10px; border-radius: 5px; font-size: 14px; font-family: monospace; overflow: auto;\">\n",
    "from sklearn.metrics import accuracy_score\n",
    "# پیش‌بینی‌ها را با استفاده از داده‌های ارزیابی انجام می‌دهیم\n",
    "y_pred = logistic_model.predict(X_test)\n",
    "# ارزیابی مدل\n",
    "accuracy = accuracy_score(y_test, y_pred)\n",
    "print(f\"Accuracy: {accuracy}\")\n",
    "  </pre>\n",
    "</div>\n"
   ]
  },
  {
   "cell_type": "code",
   "execution_count": 32,
   "metadata": {
    "colab": {
     "base_uri": "https://localhost:8080/"
    },
    "id": "FnTkh_xy6TZ_",
    "outputId": "b802ea8e-96e5-4fb5-c4ed-3e48fbc38b76"
   },
   "outputs": [
    {
     "name": "stdout",
     "output_type": "stream",
     "text": [
      "Accuracy: 0.6350066934404284\n"
     ]
    }
   ],
   "source": [
    "from sklearn.metrics import accuracy_score\n",
    "\n",
    "# Make predictions on the test set\n",
    "y_pred = logistic_model.predict(X_test)\n",
    "\n",
    "# Evaluate the model\n",
    "accuracy = accuracy_score(y_test, y_pred)\n",
    "print(f\"Accuracy: {accuracy}\")"
   ]
  },
  {
   "cell_type": "markdown",
   "metadata": {
    "id": "GKFFlYy40GzT"
   },
   "source": [
    "<p dir=\"rtl\" style=\"direction: rtl;text-align: justify;line-height:200%;font-family:vazir;font-size:medium;\">  \n",
    "<font face=\"vazir\" size=\"3\">  \n",
    "در این بخش، شما باید با استفاده از تابع <code>predict_recommendation</code>، کلاس نظرات جدید را پیش‌بینی کنید. این تابع، با پردازش نظر ورودی و تبدیل آن به بردار تعبیه، از مدل آموزش‌دیده برای پیش‌بینی کلاس استفاده می‌کند و یکی از سه حالت زیر را بازمی‌گرداند:  \n",
    "<ul>  \n",
    "<li><code>recommended</code> (توصیه شده)</li>  \n",
    "<li><code>not_recommended</code> (توصیه نشده)</li>  \n",
    "<li><code>no_idea</code> (بدون ایده)</li>  \n",
    "</ul>  \n",
    "</font>  \n",
    "</p>  \n",
    "\n",
    "<p dir=\"rtl\" style=\"direction: rtl;text-align: justify;line-height:200%;font-family:vazir;font-size:medium;\">  \n",
    "<font face=\"vazir\" size=\"3\">  \n",
    "برای این کار، مراحل زیر را انجام دهید:  \n",
    "</font>  \n",
    "</p>  \n",
    "\n",
    "<ol dir=\"rtl\" style=\"direction: rtl;text-align: justify;line-height:200%;font-family:vazir;font-size:medium;\">  \n",
    "<font face=\"vazir\" size=\"3\">  \n",
    "<li>یک نظر جدید تعریف کنید. به عنوان مثال:  \n",
    "</font>  \n",
    "</ol>  \n",
    "\n",
    "<div dir=\"ltr\" style=\"text-align: left;\">  \n",
    "<pre style=\"background-color: #f5f5f5; padding: 10px; border-radius: 5px; font-size: 14px; font-family: monospace; overflow: auto;\">  \n",
    "comment = \"این محصول فوق‌العاده بود و واقعاً از خریدم راضی‌ام!\"  \n",
    "</pre>  \n",
    "</div>  \n",
    "\n",
    "<ol dir=\"rtl\" start=\"2\" style=\"direction: rtl;text-align: justify;line-height:200%;font-family:vazir;font-size:medium;\">  \n",
    "<font face=\"vazir\" size=\"3\">  \n",
    "<li>تابع <code>predict_recommendation</code> را فراخوانی کنید و نتیجه را ذخیره کنید:  \n",
    "</font>  \n",
    "</ol>  \n",
    "\n",
    "<div dir=\"ltr\" style=\"text-align: left;\">  \n",
    "<pre style=\"background-color: #f5f5f5; padding: 10px; border-radius: 5px; font-size: 14px; font-family: monospace; overflow: auto;\">  \n",
    "result = predict_recommendation(comment)  \n",
    "print(result)  \n",
    "</pre>  \n",
    "</div>  \n",
    "\n",
    "<ol dir=\"rtl\" start=\"3\" style=\"direction: rtl;text-align: justify;line-height:200%;font-family:vazir;font-size:medium;\">  \n",
    "<font face=\"vazir\" size=\"3\">  \n",
    "<li>چند نظر دیگر را با احساسات مختلف (مثبت، منفی و خنثی) آزمایش کنید و خروجی‌های مدل را بررسی کنید. به عنوان مثال:  \n",
    "</font>  \n",
    "</ol>  \n",
    "\n",
    "<div dir=\"ltr\" style=\"text-align: left;\">  \n",
    "<pre style=\"background-color: #f5f5f5; padding: 10px; border-radius: 5px; font-size: 14px; font-family: monospace; overflow: auto;\">  \n",
    "print(predict_recommendation(\"کیفیت این محصول بسیار پایین بود و اصلاً راضی نیستم.\"))  \n",
    "print(predict_recommendation(\"محصول معمولی بود، نه خوب و نه بد.\"))  \n",
    "</pre>  \n",
    "</div>  \n",
    "\n",
    "<p dir=\"rtl\" style=\"direction: rtl;text-align: justify;line-height:200%;font-family:vazir;font-size:medium;\">  \n",
    "<font face=\"vazir\" size=\"3\">  \n",
    "هدف شما این است که با تست چندین نظر، عملکرد مدل را بسنجید و تفاوت‌های موجود در پیش‌بینی‌ها را بررسی کنید. همچنین می‌توانید با تغییر نظرات، تأثیر پردازش زبان طبیعی را بهتر درک کنید.  \n",
    "</font>  \n",
    "</p>  "
   ]
  },
  {
   "cell_type": "code",
   "execution_count": 35,
   "metadata": {
    "id": "Z8jLBFxK9t9O"
   },
   "outputs": [],
   "source": [
    "def predict_recommendation(comment):\n",
    "    # Preprocess the comment\n",
    "    preprocessed_comment = preprocess_text(comment)\n",
    "    \n",
    "    # Convert to vector\n",
    "    vector = sentence_vector(preprocessed_comment)\n",
    "    \n",
    "    # Reshape for prediction\n",
    "    vector = vector.reshape(1, -1)\n",
    "    \n",
    "    # Predict recommendation status\n",
    "    prediction = logistic_model.predict(vector)\n",
    "    \n",
    "    return prediction[0]\n"
   ]
  },
  {
   "cell_type": "markdown",
   "metadata": {
    "id": "q2YU5n2J02Dj"
   },
   "source": [
    "<p dir=rtl style=\"direction: rtl;text-align: justify;line-height:200%;font-family:vazir;font-size:medium\">\n",
    "  <font face=\"vazir\" size=3>\n",
    "    انجام عملیات پیش‌بینی نظرهای فایل test. در این مرحله تابع پیاده‌سازی شده را برای داده‌های داخل فایل تست اعمال کنید و در یک دیتا فریم به نام submission ذخیره کنید. این دیتافریم می‌بایست به شکل زیر باشد که مشخص کنند کلاس هرکدام از نظرها می‌باشد.(این فایل به صورت مستقیم در ارزیابی پروژه شما تاثیر دارد)\n",
    "  </font>\n",
    "</p>\n",
    "<table class=\"center\">\n",
    "  <tr>\n",
    "    <th>class</th>\n",
    "  </tr>\n",
    "  <tr>\n",
    "    <td>not_recommended</td>\n",
    "  </tr>\n",
    "  <tr>\n",
    "    <td>not_recommended</td>\n",
    "  </tr>\n",
    "  <tr>\n",
    "    <td>recommended</td>\n",
    "  </tr>\n",
    "  <tr>\n",
    "    <td>...</td>\n",
    "  </tr>\n",
    "</table>"
   ]
  },
  {
   "cell_type": "code",
   "execution_count": 36,
   "metadata": {
    "colab": {
     "base_uri": "https://localhost:8080/",
     "height": 424
    },
    "id": "u32cM4_T_NZN",
    "outputId": "3685b8b4-51bc-49f9-8e21-1b5405b722a7"
   },
   "outputs": [
    {
     "data": {
      "text/html": [
       "<div>\n",
       "<style scoped>\n",
       "    .dataframe tbody tr th:only-of-type {\n",
       "        vertical-align: middle;\n",
       "    }\n",
       "\n",
       "    .dataframe tbody tr th {\n",
       "        vertical-align: top;\n",
       "    }\n",
       "\n",
       "    .dataframe thead th {\n",
       "        text-align: right;\n",
       "    }\n",
       "</style>\n",
       "<table border=\"1\" class=\"dataframe\">\n",
       "  <thead>\n",
       "    <tr style=\"text-align: right;\">\n",
       "      <th></th>\n",
       "      <th>class</th>\n",
       "    </tr>\n",
       "  </thead>\n",
       "  <tbody>\n",
       "    <tr>\n",
       "      <th>0</th>\n",
       "      <td>2</td>\n",
       "    </tr>\n",
       "    <tr>\n",
       "      <th>1</th>\n",
       "      <td>2</td>\n",
       "    </tr>\n",
       "    <tr>\n",
       "      <th>2</th>\n",
       "      <td>0</td>\n",
       "    </tr>\n",
       "    <tr>\n",
       "      <th>3</th>\n",
       "      <td>2</td>\n",
       "    </tr>\n",
       "    <tr>\n",
       "      <th>4</th>\n",
       "      <td>1</td>\n",
       "    </tr>\n",
       "    <tr>\n",
       "      <th>...</th>\n",
       "      <td>...</td>\n",
       "    </tr>\n",
       "    <tr>\n",
       "      <th>595</th>\n",
       "      <td>1</td>\n",
       "    </tr>\n",
       "    <tr>\n",
       "      <th>596</th>\n",
       "      <td>1</td>\n",
       "    </tr>\n",
       "    <tr>\n",
       "      <th>597</th>\n",
       "      <td>0</td>\n",
       "    </tr>\n",
       "    <tr>\n",
       "      <th>598</th>\n",
       "      <td>1</td>\n",
       "    </tr>\n",
       "    <tr>\n",
       "      <th>599</th>\n",
       "      <td>1</td>\n",
       "    </tr>\n",
       "  </tbody>\n",
       "</table>\n",
       "<p>600 rows × 1 columns</p>\n",
       "</div>"
      ],
      "text/plain": [
       "     class\n",
       "0        2\n",
       "1        2\n",
       "2        0\n",
       "3        2\n",
       "4        1\n",
       "..     ...\n",
       "595      1\n",
       "596      1\n",
       "597      0\n",
       "598      1\n",
       "599      1\n",
       "\n",
       "[600 rows x 1 columns]"
      ]
     },
     "execution_count": 36,
     "metadata": {},
     "output_type": "execute_result"
    }
   ],
   "source": [
    "pre = test_data['body'].apply(predict_recommendation)\n",
    "submission = pd.DataFrame({'class':pre})\n",
    "submission"
   ]
  },
  {
   "cell_type": "code",
   "execution_count": 4,
   "metadata": {},
   "outputs": [
    {
     "data": {
      "text/plain": [
       "Index(['class'], dtype='object')"
      ]
     },
     "execution_count": 4,
     "metadata": {},
     "output_type": "execute_result"
    }
   ],
   "source": [
    "import pandas as pd\n",
    "submission = pd.read_csv('./submission.csv')\n",
    "submission.columns"
   ]
  },
  {
   "cell_type": "code",
   "execution_count": 5,
   "metadata": {},
   "outputs": [],
   "source": [
    "submission['class'] = submission['class'].map({2: \"no_idea\" ,1: \"recommended\", 0: \"not_recommended\"})"
   ]
  },
  {
   "cell_type": "markdown",
   "metadata": {
    "id": "sgrpwPUK2kHC"
   },
   "source": [
    "<h2 align=right style=\"line-height:200%;font-family:vazir;color:#0099cc\">\n",
    "<font face=\"vazir\" color=\"#0099cc\">\n",
    "<b>سلول جواب‌ساز</b>\n",
    "</font>\n",
    "</h2>\n",
    "\n",
    "<p dir=rtl style=\"direction: rtl; text-align: justify; line-height:200%; font-family:vazir; font-size:medium\">\n",
    "<font face=\"vazir\" size=3>\n",
    "    برای ساخته‌شدن فایل <code>result.zip</code> سلول زیر را اجرا کنید. توجه داشته باشید که پیش از اجرای سلول زیر تغییرات اعمال شده در نت‌بوک را ذخیره کرده باشید (<code>ctrl+s</code>) تا در صورت نیاز به پشتیبانی امکان بررسی کد شما وجود داشته باشد.\n",
    "</font>\n",
    "</p>"
   ]
  },
  {
   "cell_type": "code",
   "execution_count": 6,
   "metadata": {
    "colab": {
     "base_uri": "https://localhost:8080/"
    },
    "id": "IGkOqnCM2BBo",
    "outputId": "64f2d7cb-8d51-484d-89d8-2f437a7f5ae5"
   },
   "outputs": [
    {
     "name": "stdout",
     "output_type": "stream",
     "text": [
      "File Paths:\n",
      "['submission.csv']\n"
     ]
    }
   ],
   "source": [
    "import zipfile\n",
    "import joblib\n",
    "\n",
    "def compress(file_names):\n",
    "    print(\"File Paths:\")\n",
    "    print(file_names)\n",
    "    compression = zipfile.ZIP_DEFLATED\n",
    "    with zipfile.ZipFile(\"result.zip\", mode=\"w\") as zf:\n",
    "        for file_name in file_names:\n",
    "            zf.write('./' + file_name, file_name, compress_type=compression)\n",
    "\n",
    "submission.to_csv('submission.csv', index=False)\n",
    "\n",
    "file_names = [ 'submission.csv']\n",
    "compress(file_names)"
   ]
  }
 ],
 "metadata": {
  "colab": {
   "provenance": []
  },
  "kernelspec": {
   "display_name": "hazm_env",
   "language": "python",
   "name": "python3"
  },
  "language_info": {
   "codemirror_mode": {
    "name": "ipython",
    "version": 3
   },
   "file_extension": ".py",
   "mimetype": "text/x-python",
   "name": "python",
   "nbconvert_exporter": "python",
   "pygments_lexer": "ipython3",
   "version": "3.11.8"
  }
 },
 "nbformat": 4,
 "nbformat_minor": 0
}
