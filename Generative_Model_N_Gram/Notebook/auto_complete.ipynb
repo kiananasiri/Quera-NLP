{
 "cells": [
  {
   "cell_type": "markdown",
   "metadata": {},
   "source": [
    "<h2 align=right style=\"line-height:200%;font-family:vazir;color:#0099cc\">\n",
    "<font face=\"vazir\" color=\"#0099cc\">\n",
    "وارد کردن کتابخانه‌ها\n",
    "</font>\n",
    "</h2>\n",
    "<p dir=rtl style=\"direction: rtl;text-align: justify;line-height:200%;font-family:vazir;font-size:medium\">\n",
    "<font face=\"vazir\" size=3>\n",
    "در این بخش، کتابخانه‌های مختلفی برای انجام پردازش‌های مختلف بر روی داده‌ها وارد می‌شوند. این کتابخانه‌ها شامل <b>random</b> برای تولید اعداد تصادفی، <b>re</b> برای کار با عبارات منظم، <b>nltk</b> برای پردازش زبان طبیعی، <b>pandas</b> برای تجزیه و تحلیل داده‌ها، <b>math</b> برای محاسبات ریاضی، و <b>matplotlib</b> برای رسم نمودارها هستند. همچنین برای توکنایز کردن داده‌ها، کتابخانه <b>nltk</b> بارگذاری می‌شود.\n",
    "</font>\n",
    "</p>"
   ]
  },
  {
   "cell_type": "code",
   "execution_count": 1,
   "metadata": {},
   "outputs": [
    {
     "name": "stderr",
     "output_type": "stream",
     "text": [
      "[nltk_data] Downloading package punkt to\n",
      "[nltk_data]     /Users/kiananasiri/nltk_data...\n",
      "[nltk_data]   Package punkt is already up-to-date!\n"
     ]
    },
    {
     "data": {
      "text/plain": [
       "True"
      ]
     },
     "execution_count": 1,
     "metadata": {},
     "output_type": "execute_result"
    }
   ],
   "source": [
    "import random\n",
    "import re\n",
    "from collections import defaultdict\n",
    "import nltk\n",
    "import pandas as pd\n",
    "import math\n",
    "import matplotlib.pyplot as plt\n",
    "\n",
    "nltk.download('punkt')"
   ]
  },
  {
   "cell_type": "markdown",
   "metadata": {},
   "source": [
    "<h2 align=right style=\"line-height:200%;font-family:vazir;color:#0099cc\">\n",
    "<font face=\"vazir\" color=\"#0099cc\">\n",
    "خواندن داده‌ها\n",
    "</font>\n",
    "</h2>\n",
    "<p dir=rtl style=\"direction: rtl;text-align: justify;line-height:200%;font-family:vazir;font-size:medium\">\n",
    "<font face=\"vazir\" size=3>\n",
    "در این بخش داده‌ها از فایل متنی <b>twits.txt</b> بارگذاری می‌شوند. پس از خواندن داده‌ها، نوع داده و طول آن و همچنین اولین ۵۰۰ کاراکتر آن چاپ می‌شود تا بررسی اولیه‌ای از داده‌ها داشته باشیم.\n",
    "</font>\n",
    "</p>"
   ]
  },
  {
   "cell_type": "code",
   "execution_count": 2,
   "metadata": {},
   "outputs": [
    {
     "name": "stdout",
     "output_type": "stream",
     "text": [
      "Data type: <class 'str'>\n",
      "Number of characters: 3256325\n",
      "First 500 characters: How are you? Btw thanks for the RT. You gonna be in DC anytime soon? Love to see you. Been way, way too long.\n",
      "When you meet someone special... you'll know. Your heart will beat more rapidly and you'll smile for no reason.\n",
      "they've decided its more fun if I don't.\n",
      "So Tired D; Played Lazer Tag & Ran A LOT D; Ughh Going To Sleep Like In 5 Minutes ;)\n",
      "Words from a complete stranger! Made my birthday even better :)\n",
      "First Cubs game ever! Wrigley field is gorgeous. This is perfect. Go Cubs Go!\n",
      "i no! i ge\n"
     ]
    }
   ],
   "source": [
    "# Read the data\n",
    "with open(\"../Data/twits.txt\", \"r\", encoding=\"utf-8\") as f:\n",
    "    data = f.read()\n",
    "\n",
    "print(\"Data type:\", type(data))\n",
    "print(\"Number of characters:\", len(data))\n",
    "print(\"First 500 characters:\", data[:500])"
   ]
  },
  {
   "cell_type": "markdown",
   "metadata": {},
   "source": [
    "<h2 align=right style=\"line-height:200%;font-family:vazir;color:#0099cc\">\n",
    "<font face=\"vazir\" color=\"#0099cc\">\n",
    "توکنایز کردن متن\n",
    "</font>\n",
    "</h2>\n",
    "<p dir=rtl style=\"direction: rtl;text-align: justify;line-height:200%;font-family:vazir;font-size:medium\">\n",
    "<font face=\"vazir\" size=3>\n",
    "در این بخش، باید تابعی برای پیش‌پردازش داده‌ها بنویسید که شامل مراحل زیر باشد:\n",
    "<ul>\n",
    "    <li>تبدیل تمام متن به حروف کوچک</li>\n",
    "    <li>حذف علائم نگارشی</li>\n",
    "    <li>توکنایز کردن متن به جملات و سپس به کلمات</li>\n",
    "</ul>\n",
    "شما باید این توابع را به گونه‌ای بنویسید که بتوانید داده‌ها را آماده استفاده در مراحل بعدی کنید.\n",
    "</font>\n",
    "</p>"
   ]
  },
  {
   "cell_type": "code",
   "execution_count": 28,
   "metadata": {},
   "outputs": [
    {
     "name": "stdout",
     "output_type": "stream",
     "text": [
      "\n",
      "Preprocessed Sentences:\n",
      "['how are you', 'btw thanks for the rt', 'you gonna be in dc anytime soon', 'love to see you', 'been way way too long', 'when you meet someone special youll know', 'your heart will beat more rapidly and youll smile for no reason', 'theyve decided its more fun if i dont', 'so tired d played lazer tag  ran a lot d ughh going to sleep like in 5 minutes words from a complete stranger', 'made my birthday even better first cubs game ever']\n"
     ]
    }
   ],
   "source": [
    "# TODO\n",
    "from nltk.tokenize import sent_tokenize\n",
    "import re\n",
    "def preprocess_text(text):\n",
    "    \"\"\"\n",
    "    Preprocess the input text: lowercase, remove special characters, and tokenize sentences.\n",
    "    \"\"\"\n",
    "    sentences = sent_tokenize(text)\n",
    "    for i , sen in enumerate(sentences):\n",
    "        sentences[i] = re.sub( r'[^a-zA-Z0-9 ]+', '' , sen.lower() )\n",
    "    return sentences\n",
    "\n",
    "# Preprocess the data\n",
    "sentences = preprocess_text(data)\n",
    "\n",
    "# Display the first 5 sentences\n",
    "print(\"\\nPreprocessed Sentences:\")\n",
    "print(sentences[:10])"
   ]
  },
  {
   "cell_type": "markdown",
   "metadata": {},
   "source": [
    "<h2 align=right style=\"line-height:200%;font-family:vazir;color:#0099cc\">\n",
    "<font face=\"vazir\" color=\"#0099cc\">\n",
    "جایگزینی کلمات خارج از واژه‌نامه با <b>&lt;unk&gt;</b>\n",
    "</font>\n",
    "</h2>\n",
    "<p dir=rtl style=\"direction: rtl;text-align: justify;line-height:200%;font-family:vazir;font-size:medium\">\n",
    "<font face=\"vazir\" size=3>\n",
    "در این مرحله شما باید تابعی بنویسید که کلمات خارج از واژه‌نامه را با کلمه خاصی مانند <b>&lt;unk&gt;</b> جایگزین کند. این تابع باید به طور خودکار کلماتی که در واژه‌نامه وجود ندارند را شناسایی کرده و آن‌ها را با این کلمه خاص جایگزین نماید.\n",
    "</font>\n",
    "</p>"
   ]
  },
  {
   "cell_type": "code",
   "execution_count": 48,
   "metadata": {},
   "outputs": [],
   "source": [
    "# TODO\n",
    "from nltk.tokenize import word_tokenize\n",
    "\n",
    "def replace_oov_words_by_unk(tokenized_sentences, vocabulary, unknown_token=\"<unk>\"):\n",
    "    \"\"\"\n",
    "    Replace words not in the given vocabulary with '<unk>' token.\n",
    "    \"\"\"\n",
    "    for j,sen in enumerate(tokenized_sentences):\n",
    "        words = word_tokenize(sen)\n",
    "        for i, word in enumerate(words):\n",
    "            if word not in vocabulary:\n",
    "                words[i] = unknown_token\n",
    "        tokenized_sentences[j] = ' '.join(words)\n",
    "                \n",
    "    return tokenized_sentences"
   ]
  },
  {
   "cell_type": "markdown",
   "metadata": {},
   "source": [
    "<h2 align=right style=\"line-height:200%;font-family:vazir;color:#0099cc\">\n",
    "<font face=\"vazir\" color=\"#0099cc\">\n",
    "استخراج کلمات با فرکانس n یا بیشتر\n",
    "</font>\n",
    "</h2>\n",
    "<p dir=rtl style=\"direction: rtl;text-align: justify;line-height:200%;font-family:vazir;font-size:medium\">\n",
    "<font face=\"vazir\" size=3>\n",
    "در این بخش باید تابعی بنویسید که کلمات با فرکانس n یا بیشتر را از داده‌ها استخراج کند. این کار کمک می‌کند تا فقط کلمات پرکاربرد در مدل استفاده شوند و کلمات نادر که ممکن است در پیش‌بینی‌های مدل اثر منفی داشته باشند، حذف شوند.\n",
    "</font>\n",
    "</p>"
   ]
  },
  {
   "cell_type": "code",
   "execution_count": 39,
   "metadata": {},
   "outputs": [],
   "source": [
    "from nltk.tokenize import word_tokenize\n",
    "def get_frequency_of_each_word(data):\n",
    "    words  = []\n",
    "    for sen in data:\n",
    "        words.extend(word_tokenize(sen))\n",
    "    \n",
    "    return Counter(words)"
   ]
  },
  {
   "cell_type": "code",
   "execution_count": 40,
   "metadata": {},
   "outputs": [],
   "source": [
    "# TODO\n",
    "from collections import Counter\n",
    "def get_words_with_nplus_frequency(data, n):\n",
    "    \"\"\"\n",
    "    Get words appearing n or more times in the data.\n",
    "    \"\"\"\n",
    "    freqs = get_frequency_of_each_word(data)\n",
    "    \n",
    "    return [k for k, v in freqs.items() if v >= n]"
   ]
  },
  {
   "cell_type": "markdown",
   "metadata": {},
   "source": [
    "<h2 align=right style=\"line-height:200%;font-family:vazir;color:#0099cc\">\n",
    "<font face=\"vazir\" color=\"#0099cc\">\n",
    "پیش‌پردازش داده‌ها\n",
    "</font>\n",
    "</h2>\n",
    "<p dir=rtl style=\"direction: rtl;text-align: justify;line-height:200%;font-family:vazir;font-size:medium\">\n",
    "<font face=\"vazir\" size=3>\n",
    "در این مرحله داده‌ها برای استفاده در مدل آماده می‌شوند. این کار شامل تقسیم داده‌ها به داده‌های آموزشی و آزمایشی و سپس جایگزینی کلمات خارج از واژه‌نامه با <b>&lt;unk&gt;</b> است. همچنین برای واژه‌نامه، کلمات با فرکانس n یا بیشتر استخراج می‌شوند.\n",
    "</font>\n",
    "</p>"
   ]
  },
  {
   "cell_type": "code",
   "execution_count": 49,
   "metadata": {},
   "outputs": [],
   "source": [
    "# TODO\n",
    "def preprocess_data(train_data, count_threshold):\n",
    "    \"\"\"\n",
    "    Preprocess data to handle out-of-vocabulary words by replacing them with <unk>.\n",
    "    \"\"\"\n",
    "    vocabulary = get_words_with_nplus_frequency(train_data, count_threshold)\n",
    "    train_data_replaced = replace_oov_words_by_unk(train_data, vocabulary)\n",
    "\n",
    "    return train_data_replaced, vocabulary\n",
    "\n",
    "\n",
    "# Apply preprocessing\n",
    "train_sentences = sentences[:int(0.8 * len(sentences))]\n",
    "test_sentences = sentences[int(0.8 * len(sentences)):]\n",
    "train_sentences_replaced, vocabulary = preprocess_data(train_sentences, count_threshold=5)\n",
    "test_sentences_replaced = replace_oov_words_by_unk(test_sentences, vocabulary)"
   ]
  },
  {
   "cell_type": "markdown",
   "metadata": {},
   "source": [
    "<h2 align=right style=\"line-height:200%;font-family:vazir;color:#0099cc\">\n",
    "<font face=\"vazir\" color=\"#0099cc\">\n",
    "ایجاد n-gramها\n",
    "</font>\n",
    "</h2>\n",
    "<p dir=rtl style=\"direction: rtl;text-align: justify;line-height:200%;font-family:vazir;font-size:medium\">\n",
    "<font face=\"vazir\" size=3>\n",
    "در این مرحله باید تابعی بنویسید که n-gramها را از مجموعه توکن‌ها تولید کند. یک n-gram مجموعه‌ای از n کلمه است که در کنار هم آمده‌اند. این کار به مدل کمک می‌کند تا الگوهای موجود در داده‌ها را یاد بگیرد.\n",
    "</font>\n",
    "</p>"
   ]
  },
  {
   "cell_type": "code",
   "execution_count": 51,
   "metadata": {},
   "outputs": [],
   "source": [
    "def generate_ngrams(tokens, n):\n",
    "    \"\"\"\n",
    "    Generate n-grams from a list of tokens.\n",
    "    \"\"\"\n",
    "    ngrams = [tuple(tokens[i:i + n]) for i in range(len(tokens) - n + 1)]\n",
    "    return ngrams\n"
   ]
  },
  {
   "cell_type": "markdown",
   "metadata": {},
   "source": [
    "<h2 align=right style=\"line-height:200%;font-family:vazir;color:#0099cc\">\n",
    "<font face=\"vazir\" color=\"#0099cc\">\n",
    "ساخت مدل n-gram\n",
    "</font>\n",
    "</h2>\n",
    "<p dir=rtl style=\"direction: rtl;text-align: justify;line-height:200%;font-family:vazir;font-size:medium\">\n",
    "<font face=\"vazir\" size=3>\n",
    "در این مرحله شما باید مدل n-gram را بسازید. مدل باید از جملات توکنایز شده استفاده کرده و تعداد وقوع n-gramها را محاسبه کند. این مدل برای تولید جملات جدید و محاسبه احتمال وقوع جملات استفاده می‌شود.\n",
    "</font>\n",
    "</p>"
   ]
  },
  {
   "cell_type": "code",
   "execution_count": 52,
   "metadata": {},
   "outputs": [
    {
     "name": "stdout",
     "output_type": "stream",
     "text": [
      "\n",
      "N-gram Model (Sample):\n",
      "('how', 'are', 'you'): 50\n",
      "('btw', 'thanks', 'for'): 2\n",
      "('thanks', 'for', 'the'): 297\n",
      "('for', 'the', 'rt'): 57\n",
      "('you', 'gon', 'na'): 12\n"
     ]
    }
   ],
   "source": [
    "def build_ngram_model(sentences, n):\n",
    "    \"\"\"\n",
    "    Build an n-gram model from the tokenized sentences.\n",
    "    \"\"\"\n",
    "    ngram_model = defaultdict(int)\n",
    "    \n",
    "    for sentence in sentences:\n",
    "        tokens = word_tokenize(sentence)\n",
    "        ngrams = generate_ngrams(tokens, n)\n",
    "        for ngram in ngrams:\n",
    "            ngram_model[ngram] += 1\n",
    "    \n",
    "    return ngram_model\n",
    "\n",
    "# Build the n-gram model\n",
    "n = 3\n",
    "ngram_model = build_ngram_model(train_sentences_replaced, n)\n",
    "\n",
    "# Display a sample of the n-gram model\n",
    "print(\"\\nN-gram Model (Sample):\")\n",
    "for key, value in list(ngram_model.items())[:5]:\n",
    "    print(f\"{key}: {value}\")"
   ]
  },
  {
   "cell_type": "markdown",
   "metadata": {},
   "source": [
    "<h2 align=right style=\"line-height:200%;font-family:vazir;color:#0099cc\">\n",
    "<font face=\"vazir\" color=\"#0099cc\">\n",
    "تولید جملات\n",
    "</font>\n",
    "</h2>\n",
    "<p dir=rtl style=\"direction: rtl;text-align: justify;line-height:200%;font-family:vazir;font-size:medium\">\n",
    "<font face=\"vazir\" size=3>\n",
    "در این بخش شما باید تابعی بنویسید که با استفاده از مدل n-gram جملات جدیدی تولید کند. این تابع باید به طور تصادفی کلمات را از مدل انتخاب کرده و جمله‌ای را بسازد. طول جمله‌ها نیز محدودیت دارد.\n",
    "</font>\n",
    "</p>"
   ]
  },
  {
   "cell_type": "code",
   "execution_count": 53,
   "metadata": {},
   "outputs": [
    {
     "name": "stdout",
     "output_type": "stream",
     "text": [
      "\n",
      "Generated Sentences:\n",
      "- > money from his awkward < unk > a few days also my days < unk\n",
      "- this a try for the < unk > theres no bird crap\n",
      "- they are impossible\n",
      "- achieve any real and my english\n",
      "- > baby tribute to such a great birthday today austin\n",
      "- his style of parenting\n",
      "- the grandma of pop so go to < unk > by < unk > from art\n",
      "- of way but w god your on too\n",
      "- > services on sunday mornings look into late next week for you and im < unk\n",
      "- is the perfect prank to pull < unk > a table outside\n"
     ]
    }
   ],
   "source": [
    "import random\n",
    "\n",
    "def generate_sentence(ngram_model, n, max_length=15):\n",
    "    \"\"\"\n",
    "    Generate a sentence using the n-gram model.\n",
    "    \"\"\"\n",
    "    # Start with a random n-1 gram\n",
    "    start = random.choice(list(ngram_model.keys()))\n",
    "    sentence = list(start)\n",
    "\n",
    "    # Generate words until max_length is reached\n",
    "    for _ in range(max_length - (n - 1)):\n",
    "        # Get the current n-1 gram\n",
    "        current_ngram = tuple(sentence[-(n - 1):])\n",
    "        \n",
    "        # Find possible next words\n",
    "        possible_next_words = {key[-1]: count for key, count in ngram_model.items() if key[:-1] == current_ngram}\n",
    "        \n",
    "        if not possible_next_words:\n",
    "            break  # Stop if no next word is found\n",
    "        \n",
    "        # Choose the next word based on probabilities\n",
    "        next_word = random.choices(list(possible_next_words.keys()), weights=possible_next_words.values())[0]\n",
    "        sentence.append(next_word)\n",
    "        \n",
    "        # Stop if the sentence ends with a terminal token\n",
    "        if next_word in ['.', '!', '?']:\n",
    "            break\n",
    "\n",
    "    return ' '.join(sentence)\n",
    "\n",
    "# Generate a few example sentences\n",
    "generated_sentences = [generate_sentence(ngram_model, n) for _ in range(10)]\n",
    "print(\"\\nGenerated Sentences:\")\n",
    "for sentence in generated_sentences:\n",
    "    print(f\"- {sentence}\")"
   ]
  },
  {
   "cell_type": "markdown",
   "metadata": {},
   "source": [
    "<h2 align=right style=\"line-height:200%;font-family:vazir;color:#0099cc\">\n",
    "<font face=\"vazir\" color=\"#0099cc\">\n",
    "محاسبه پرپلکسیتی\n",
    "</font>\n",
    "</h2>\n",
    "<p dir=rtl style=\"direction: rtl;text-align: justify;line-height:200%;font-family:vazir;font-size:medium\">\n",
    "<font face=\"vazir\" size=3>\n",
    "در این مرحله، شما باید پرپلکسیتی یک جمله را محاسبه کنید. پرپلکسیتی معیاری است که نشان می‌دهد مدل چقدر خوب است. هر چه پرپلکسیتی کمتر باشد، مدل بهتر است. شما باید این تابع را با استفاده از مدل n-gram و با اعمال هم‌سطحی (smoothing) بنویسید.\n",
    "</font>\n",
    "</p>"
   ]
  },
  {
   "cell_type": "code",
   "execution_count": 54,
   "metadata": {},
   "outputs": [
    {
     "data": {
      "image/png": "[encoded data removed]",
      "text/plain": [
       "<Figure size 640x480 with 1 Axes>"
      ]
     },
     "metadata": {},
     "output_type": "display_data"
    }
   ],
   "source": [
    "# TODO\n",
    "def calculate_perplexity(sentence, ngram_model, n, smoothing_factor=1e-10):\n",
    "    \"\"\"\n",
    "    Calculate the perplexity of a sentence using the n-gram model with smoothing.\n",
    "    \"\"\"\n",
    "    tokens = word_tokenize(sentence)\n",
    "    N = len(tokens)\n",
    "    log_prob_sum = 0\n",
    "\n",
    "    for i in range(N - n + 1):\n",
    "        ngram = tuple(tokens[i:i + n])\n",
    "        ngram_count = ngram_model.get(ngram, 0)\n",
    "        n_minus_1_gram = tuple(tokens[i:i + n - 1])\n",
    "        n_minus_1_gram_count = sum(count for key, count in ngram_model.items() if key[:-1] == n_minus_1_gram)\n",
    "\n",
    "        # Apply smoothing\n",
    "        probability = (ngram_count + smoothing_factor) / (n_minus_1_gram_count + smoothing_factor * len(vocabulary))\n",
    "        log_prob_sum += math.log(probability)\n",
    "\n",
    "    perplexity = math.exp(-log_prob_sum / N)\n",
    "    return perplexity\n",
    "\n",
    "# Calculate perplexity for generated sentences\n",
    "perplexities = [calculate_perplexity(sentence, ngram_model, n) for sentence in generated_sentences]\n",
    "\n",
    "# Plot the perplexity distribution\n",
    "plt.hist(perplexities, bins=20, edgecolor='black')\n",
    "plt.title('Perplexity Distribution of Generated Sentences')\n",
    "plt.xlabel('Perplexity')\n",
    "plt.ylabel('Frequency')\n",
    "plt.show()"
   ]
  },
  {
   "cell_type": "markdown",
   "metadata": {},
   "source": [
    "<h2 align=right style=\"line-height:200%;font-family:vazir;color:#0099cc\">\n",
    "<font face=\"vazir\" color=\"#0099cc\">\n",
    "ذخیره نتایج و فشرده‌سازی فایل‌ها\n",
    "</font>\n",
    "</h2>\n",
    "<p dir=rtl style=\"direction: rtl;text-align: justify;line-height:200%;font-family:vazir;font-size:medium\">\n",
    "<font face=\"vazir\" size=3>\n",
    "در این بخش، جملات تولید شده و پرپلکسیتی های آن‌ها در یک فایل CSV ذخیره می‌شوند و سپس این فایل‌ها به همراه نوت‌بوک <b>auto_complete.ipynb</b> در یک فایل فشرده ZIP ذخیره می‌شوند تا برای ارزیابی و ارسال آماده شوند.\n",
    "</font>\n",
    "</p>"
   ]
  },
  {
   "cell_type": "code",
   "execution_count": 55,
   "metadata": {},
   "outputs": [
    {
     "name": "stdout",
     "output_type": "stream",
     "text": [
      "\n",
      "500 sentences with perplexities saved to 'generated_sentences.csv'\n"
     ]
    }
   ],
   "source": [
    "generated_sentences = [generate_sentence(ngram_model, n) for _ in range(500)]\n",
    "perplexities = [calculate_perplexity(sentence, ngram_model, n) for sentence in generated_sentences]\n",
    "\n",
    "results = pd.DataFrame({'generated_sentence': generated_sentences, 'perplexity': perplexities})\n",
    "results.to_csv(\"generated_sentences.csv\", index=False)\n",
    "\n",
    "print(\"\\n500 sentences with perplexities saved to 'generated_sentences.csv'\")"
   ]
  },
  {
   "cell_type": "code",
   "execution_count": 65,
   "metadata": {},
   "outputs": [
    {
     "name": "stdout",
     "output_type": "stream",
     "text": [
      "Added auto_complete.ipynb to submission.zip\n",
      "Added generated_sentences.csv to submission.zip\n",
      "Files have been zipped into submission.zip, you can now submit it!\n"
     ]
    }
   ],
   "source": [
    "import zipfile\n",
    "\n",
    "# List of files to be zipped\n",
    "files_to_zip = ['auto_complete.ipynb', 'generated_sentences.csv']\n",
    "zip_filename = 'submission.zip'\n",
    "\n",
    "# Create the zip file\n",
    "with zipfile.ZipFile(zip_filename, 'w') as zipf:\n",
    "    for file in files_to_zip:\n",
    "        try:\n",
    "            zipf.write(file)\n",
    "            print(f\"Added {file} to {zip_filename}\")\n",
    "        except FileNotFoundError:\n",
    "            print(f\"Warning: {file} not found. Skipping.\")\n",
    "\n",
    "print(f\"Files have been zipped into {zip_filename}, you can now submit it!\")"
   ]
  }
 ],
 "metadata": {
  "kernelspec": {
   "display_name": "base",
   "language": "python",
   "name": "python3"
  },
  "language_info": {
   "codemirror_mode": {
    "name": "ipython",
    "version": 3
   },
   "file_extension": ".py",
   "mimetype": "text/x-python",
   "name": "python",
   "nbconvert_exporter": "python",
   "pygments_lexer": "ipython3",
   "version": "3.12.2"
  }
 },
 "nbformat": 4,
 "nbformat_minor": 2
}
